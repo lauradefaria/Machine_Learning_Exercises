{
  "nbformat": 4,
  "nbformat_minor": 0,
  "metadata": {
    "colab": {
      "provenance": []
    },
    "kernelspec": {
      "name": "python3",
      "display_name": "Python 3"
    },
    "language_info": {
      "name": "python"
    }
  },
  "cells": [
    {
      "cell_type": "markdown",
      "source": [
        "# <p style=\"color:darkblue\">Fatal Police Shooting</p>\n",
        "\n",
        "<hr>\n",
        "\n",
        "\n",
        "In this Jupyter-Notebook, I will conduct an analysis of Fatal Police Shootings in the US using supervised machine learning algorithms. The input features for the analysis will be extracted from the dataset obtained from the Kaggle platform, and the output will indicate whether the individual exhibited signs of mental illness, classified as positive or negative. We will follow a step-by-step process, starting from dataset preprocessing and continuing to model validation.\n",
        "\n",
        "<a href=\"https://colab.research.google.com/github/lauradefaria/Machine_Learning_and_data_analysis/blob/main/Fatal%20Shooting/Fatal-Police-Shooting.ipynb\" target=\"_parent\"><img src=\"https://colab.research.google.com/assets/colab-badge.svg\" alt=\"Open In Colab\"/></a>"
      ],
      "metadata": {
        "id": "8C059gs2K8WA"
      }
    },
    {
      "cell_type": "markdown",
      "source": [
        "# 1. Reading Data"
      ],
      "metadata": {
        "id": "Jqt6K3P8X1F6"
      }
    },
    {
      "cell_type": "markdown",
      "source": [
        "\n",
        "At first, we will import all the libraries that will be used throughout the project."
      ],
      "metadata": {
        "id": "SZrtXScid1HB"
      }
    },
    {
      "cell_type": "code",
      "source": [
        "import pandas as pd\n",
        "import numpy as np\n",
        "import matplotlib.pyplot as plt\n",
        "\n",
        "from sklearn.impute import KNNImputer"
      ],
      "metadata": {
        "id": "pfzFgR1od0Ny"
      },
      "execution_count": 1,
      "outputs": []
    },
    {
      "cell_type": "markdown",
      "source": [
        "Let's read the dataset that will be used for this work. The dataset can be downloaded from Kaggle or accessed from the repository of this class."
      ],
      "metadata": {
        "id": "fqZuD4saYq9_"
      }
    },
    {
      "cell_type": "code",
      "source": [
        "df_path = \"https://raw.githubusercontent.com/lauradefaria/Machine_Learning_and_Data_Analysis/main/Fatal-Police-Shooting/PS-Dataset/PoliceKillingsUS.csv\""
      ],
      "metadata": {
        "id": "VakqnJWrY5ty"
      },
      "execution_count": 2,
      "outputs": []
    },
    {
      "cell_type": "code",
      "source": [
        "df = pd.read_csv(df_path, encoding='cp1252', index_col=0)\n",
        "print(\"Dataset size : \", df.shape)"
      ],
      "metadata": {
        "colab": {
          "base_uri": "https://localhost:8080/"
        },
        "id": "xTZ8JBbuZwnl",
        "outputId": "e41dc4f0-c716-42e0-c968-604476478371"
      },
      "execution_count": 3,
      "outputs": [
        {
          "output_type": "stream",
          "name": "stdout",
          "text": [
            "Dataset size :  (2535, 13)\n"
          ]
        }
      ]
    },
    {
      "cell_type": "markdown",
      "source": [
        "# 2. Data Analysis"
      ],
      "metadata": {
        "id": "R7EtPNNSa0L7"
      }
    },
    {
      "cell_type": "markdown",
      "source": [
        "Initially, a brief analysis will be conducted on the attributes of the dataset to assess their relevance to the problem at hand:\n",
        "* ***name:*** Name of the deceased\n",
        "* ***date:*** Date of the occurrence\n",
        "* ***manner_of_death:*** Manner in which the victim was killed\n",
        "* ***armed:*** Whether the victim was holding an object (or unarmed)\n",
        "* ***age:*** Age of the victim\n",
        "* ***gender:*** Gender of the victim (Male/Female)\n",
        "* ***race:*** Race of the victim (Asian/Whine/Native American/Black/Hispanic)\n",
        "* ***city:*** City where the occurrence took place\n",
        "* ***state:*** State in the US where the occurrence took place\n",
        "* ***signs_of_mental_illness:*** Indication of whether the victim exhibited signs of mental illness\n",
        "* ***threat_level:*** Whether the victim posed a threat to the officer or not\n",
        "* ***body_camera:*** Whether the officer was using a body camera or not\n",
        "* ***flee:*** Whether the victim fled the scene or not"
      ],
      "metadata": {
        "id": "flzTLIHTa-WJ"
      }
    },
    {
      "cell_type": "code",
      "source": [
        "df"
      ],
      "metadata": {
        "colab": {
          "base_uri": "https://localhost:8080/",
          "height": 631
        },
        "id": "SKN0NOR4bxd7",
        "outputId": "8c8e5092-9211-4365-d4b4-2f8550d65b92"
      },
      "execution_count": 4,
      "outputs": [
        {
          "output_type": "execute_result",
          "data": {
            "text/plain": [
              "                    name      date   manner_of_death       armed   age gender  \\\n",
              "id                                                                              \n",
              "3             Tim Elliot  02/01/15              shot         gun  53.0      M   \n",
              "4       Lewis Lee Lembke  02/01/15              shot         gun  47.0      M   \n",
              "5     John Paul Quintero  03/01/15  shot and Tasered     unarmed  23.0      M   \n",
              "8        Matthew Hoffman  04/01/15              shot  toy weapon  32.0      M   \n",
              "9      Michael Rodriguez  04/01/15              shot    nail gun  39.0      M   \n",
              "...                  ...       ...               ...         ...   ...    ...   \n",
              "2822    Rodney E. Jacobs  28/07/17              shot         gun  31.0      M   \n",
              "2813               TK TK  28/07/17              shot     vehicle   NaN      M   \n",
              "2818  Dennis W. Robinson  29/07/17              shot         gun  48.0      M   \n",
              "2817       Isaiah Tucker  31/07/17              shot     vehicle  28.0      M   \n",
              "2815        Dwayne Jeune  31/07/17              shot       knife  32.0      M   \n",
              "\n",
              "     race           city state  signs_of_mental_illness threat_level  \\\n",
              "id                                                                     \n",
              "3       A        Shelton    WA                     True       attack   \n",
              "4       W          Aloha    OR                    False       attack   \n",
              "5       H        Wichita    KS                    False        other   \n",
              "8       W  San Francisco    CA                     True       attack   \n",
              "9       H          Evans    CO                    False       attack   \n",
              "...   ...            ...   ...                      ...          ...   \n",
              "2822  NaN    Kansas City    MO                    False       attack   \n",
              "2813  NaN    Albuquerque    NM                    False       attack   \n",
              "2818  NaN          Melba    ID                    False       attack   \n",
              "2817    B        Oshkosh    WI                    False       attack   \n",
              "2815    B       Brooklyn    NY                     True       attack   \n",
              "\n",
              "             flee  body_camera  \n",
              "id                              \n",
              "3     Not fleeing        False  \n",
              "4     Not fleeing        False  \n",
              "5     Not fleeing        False  \n",
              "8     Not fleeing        False  \n",
              "9     Not fleeing        False  \n",
              "...           ...          ...  \n",
              "2822  Not fleeing        False  \n",
              "2813          Car        False  \n",
              "2818          Car        False  \n",
              "2817          Car         True  \n",
              "2815  Not fleeing        False  \n",
              "\n",
              "[2535 rows x 13 columns]"
            ],
            "text/html": [
              "\n",
              "  <div id=\"df-34c9d8b8-eb8a-4265-b587-b79fcc7e095b\" class=\"colab-df-container\">\n",
              "    <div>\n",
              "<style scoped>\n",
              "    .dataframe tbody tr th:only-of-type {\n",
              "        vertical-align: middle;\n",
              "    }\n",
              "\n",
              "    .dataframe tbody tr th {\n",
              "        vertical-align: top;\n",
              "    }\n",
              "\n",
              "    .dataframe thead th {\n",
              "        text-align: right;\n",
              "    }\n",
              "</style>\n",
              "<table border=\"1\" class=\"dataframe\">\n",
              "  <thead>\n",
              "    <tr style=\"text-align: right;\">\n",
              "      <th></th>\n",
              "      <th>name</th>\n",
              "      <th>date</th>\n",
              "      <th>manner_of_death</th>\n",
              "      <th>armed</th>\n",
              "      <th>age</th>\n",
              "      <th>gender</th>\n",
              "      <th>race</th>\n",
              "      <th>city</th>\n",
              "      <th>state</th>\n",
              "      <th>signs_of_mental_illness</th>\n",
              "      <th>threat_level</th>\n",
              "      <th>flee</th>\n",
              "      <th>body_camera</th>\n",
              "    </tr>\n",
              "    <tr>\n",
              "      <th>id</th>\n",
              "      <th></th>\n",
              "      <th></th>\n",
              "      <th></th>\n",
              "      <th></th>\n",
              "      <th></th>\n",
              "      <th></th>\n",
              "      <th></th>\n",
              "      <th></th>\n",
              "      <th></th>\n",
              "      <th></th>\n",
              "      <th></th>\n",
              "      <th></th>\n",
              "      <th></th>\n",
              "    </tr>\n",
              "  </thead>\n",
              "  <tbody>\n",
              "    <tr>\n",
              "      <th>3</th>\n",
              "      <td>Tim Elliot</td>\n",
              "      <td>02/01/15</td>\n",
              "      <td>shot</td>\n",
              "      <td>gun</td>\n",
              "      <td>53.0</td>\n",
              "      <td>M</td>\n",
              "      <td>A</td>\n",
              "      <td>Shelton</td>\n",
              "      <td>WA</td>\n",
              "      <td>True</td>\n",
              "      <td>attack</td>\n",
              "      <td>Not fleeing</td>\n",
              "      <td>False</td>\n",
              "    </tr>\n",
              "    <tr>\n",
              "      <th>4</th>\n",
              "      <td>Lewis Lee Lembke</td>\n",
              "      <td>02/01/15</td>\n",
              "      <td>shot</td>\n",
              "      <td>gun</td>\n",
              "      <td>47.0</td>\n",
              "      <td>M</td>\n",
              "      <td>W</td>\n",
              "      <td>Aloha</td>\n",
              "      <td>OR</td>\n",
              "      <td>False</td>\n",
              "      <td>attack</td>\n",
              "      <td>Not fleeing</td>\n",
              "      <td>False</td>\n",
              "    </tr>\n",
              "    <tr>\n",
              "      <th>5</th>\n",
              "      <td>John Paul Quintero</td>\n",
              "      <td>03/01/15</td>\n",
              "      <td>shot and Tasered</td>\n",
              "      <td>unarmed</td>\n",
              "      <td>23.0</td>\n",
              "      <td>M</td>\n",
              "      <td>H</td>\n",
              "      <td>Wichita</td>\n",
              "      <td>KS</td>\n",
              "      <td>False</td>\n",
              "      <td>other</td>\n",
              "      <td>Not fleeing</td>\n",
              "      <td>False</td>\n",
              "    </tr>\n",
              "    <tr>\n",
              "      <th>8</th>\n",
              "      <td>Matthew Hoffman</td>\n",
              "      <td>04/01/15</td>\n",
              "      <td>shot</td>\n",
              "      <td>toy weapon</td>\n",
              "      <td>32.0</td>\n",
              "      <td>M</td>\n",
              "      <td>W</td>\n",
              "      <td>San Francisco</td>\n",
              "      <td>CA</td>\n",
              "      <td>True</td>\n",
              "      <td>attack</td>\n",
              "      <td>Not fleeing</td>\n",
              "      <td>False</td>\n",
              "    </tr>\n",
              "    <tr>\n",
              "      <th>9</th>\n",
              "      <td>Michael Rodriguez</td>\n",
              "      <td>04/01/15</td>\n",
              "      <td>shot</td>\n",
              "      <td>nail gun</td>\n",
              "      <td>39.0</td>\n",
              "      <td>M</td>\n",
              "      <td>H</td>\n",
              "      <td>Evans</td>\n",
              "      <td>CO</td>\n",
              "      <td>False</td>\n",
              "      <td>attack</td>\n",
              "      <td>Not fleeing</td>\n",
              "      <td>False</td>\n",
              "    </tr>\n",
              "    <tr>\n",
              "      <th>...</th>\n",
              "      <td>...</td>\n",
              "      <td>...</td>\n",
              "      <td>...</td>\n",
              "      <td>...</td>\n",
              "      <td>...</td>\n",
              "      <td>...</td>\n",
              "      <td>...</td>\n",
              "      <td>...</td>\n",
              "      <td>...</td>\n",
              "      <td>...</td>\n",
              "      <td>...</td>\n",
              "      <td>...</td>\n",
              "      <td>...</td>\n",
              "    </tr>\n",
              "    <tr>\n",
              "      <th>2822</th>\n",
              "      <td>Rodney E. Jacobs</td>\n",
              "      <td>28/07/17</td>\n",
              "      <td>shot</td>\n",
              "      <td>gun</td>\n",
              "      <td>31.0</td>\n",
              "      <td>M</td>\n",
              "      <td>NaN</td>\n",
              "      <td>Kansas City</td>\n",
              "      <td>MO</td>\n",
              "      <td>False</td>\n",
              "      <td>attack</td>\n",
              "      <td>Not fleeing</td>\n",
              "      <td>False</td>\n",
              "    </tr>\n",
              "    <tr>\n",
              "      <th>2813</th>\n",
              "      <td>TK TK</td>\n",
              "      <td>28/07/17</td>\n",
              "      <td>shot</td>\n",
              "      <td>vehicle</td>\n",
              "      <td>NaN</td>\n",
              "      <td>M</td>\n",
              "      <td>NaN</td>\n",
              "      <td>Albuquerque</td>\n",
              "      <td>NM</td>\n",
              "      <td>False</td>\n",
              "      <td>attack</td>\n",
              "      <td>Car</td>\n",
              "      <td>False</td>\n",
              "    </tr>\n",
              "    <tr>\n",
              "      <th>2818</th>\n",
              "      <td>Dennis W. Robinson</td>\n",
              "      <td>29/07/17</td>\n",
              "      <td>shot</td>\n",
              "      <td>gun</td>\n",
              "      <td>48.0</td>\n",
              "      <td>M</td>\n",
              "      <td>NaN</td>\n",
              "      <td>Melba</td>\n",
              "      <td>ID</td>\n",
              "      <td>False</td>\n",
              "      <td>attack</td>\n",
              "      <td>Car</td>\n",
              "      <td>False</td>\n",
              "    </tr>\n",
              "    <tr>\n",
              "      <th>2817</th>\n",
              "      <td>Isaiah Tucker</td>\n",
              "      <td>31/07/17</td>\n",
              "      <td>shot</td>\n",
              "      <td>vehicle</td>\n",
              "      <td>28.0</td>\n",
              "      <td>M</td>\n",
              "      <td>B</td>\n",
              "      <td>Oshkosh</td>\n",
              "      <td>WI</td>\n",
              "      <td>False</td>\n",
              "      <td>attack</td>\n",
              "      <td>Car</td>\n",
              "      <td>True</td>\n",
              "    </tr>\n",
              "    <tr>\n",
              "      <th>2815</th>\n",
              "      <td>Dwayne Jeune</td>\n",
              "      <td>31/07/17</td>\n",
              "      <td>shot</td>\n",
              "      <td>knife</td>\n",
              "      <td>32.0</td>\n",
              "      <td>M</td>\n",
              "      <td>B</td>\n",
              "      <td>Brooklyn</td>\n",
              "      <td>NY</td>\n",
              "      <td>True</td>\n",
              "      <td>attack</td>\n",
              "      <td>Not fleeing</td>\n",
              "      <td>False</td>\n",
              "    </tr>\n",
              "  </tbody>\n",
              "</table>\n",
              "<p>2535 rows × 13 columns</p>\n",
              "</div>\n",
              "    <div class=\"colab-df-buttons\">\n",
              "\n",
              "  <div class=\"colab-df-container\">\n",
              "    <button class=\"colab-df-convert\" onclick=\"convertToInteractive('df-34c9d8b8-eb8a-4265-b587-b79fcc7e095b')\"\n",
              "            title=\"Convert this dataframe to an interactive table.\"\n",
              "            style=\"display:none;\">\n",
              "\n",
              "  <svg xmlns=\"http://www.w3.org/2000/svg\" height=\"24px\" viewBox=\"0 -960 960 960\">\n",
              "    <path d=\"M120-120v-720h720v720H120Zm60-500h600v-160H180v160Zm220 220h160v-160H400v160Zm0 220h160v-160H400v160ZM180-400h160v-160H180v160Zm440 0h160v-160H620v160ZM180-180h160v-160H180v160Zm440 0h160v-160H620v160Z\"/>\n",
              "  </svg>\n",
              "    </button>\n",
              "\n",
              "  <style>\n",
              "    .colab-df-container {\n",
              "      display:flex;\n",
              "      gap: 12px;\n",
              "    }\n",
              "\n",
              "    .colab-df-convert {\n",
              "      background-color: #E8F0FE;\n",
              "      border: none;\n",
              "      border-radius: 50%;\n",
              "      cursor: pointer;\n",
              "      display: none;\n",
              "      fill: #1967D2;\n",
              "      height: 32px;\n",
              "      padding: 0 0 0 0;\n",
              "      width: 32px;\n",
              "    }\n",
              "\n",
              "    .colab-df-convert:hover {\n",
              "      background-color: #E2EBFA;\n",
              "      box-shadow: 0px 1px 2px rgba(60, 64, 67, 0.3), 0px 1px 3px 1px rgba(60, 64, 67, 0.15);\n",
              "      fill: #174EA6;\n",
              "    }\n",
              "\n",
              "    .colab-df-buttons div {\n",
              "      margin-bottom: 4px;\n",
              "    }\n",
              "\n",
              "    [theme=dark] .colab-df-convert {\n",
              "      background-color: #3B4455;\n",
              "      fill: #D2E3FC;\n",
              "    }\n",
              "\n",
              "    [theme=dark] .colab-df-convert:hover {\n",
              "      background-color: #434B5C;\n",
              "      box-shadow: 0px 1px 3px 1px rgba(0, 0, 0, 0.15);\n",
              "      filter: drop-shadow(0px 1px 2px rgba(0, 0, 0, 0.3));\n",
              "      fill: #FFFFFF;\n",
              "    }\n",
              "  </style>\n",
              "\n",
              "    <script>\n",
              "      const buttonEl =\n",
              "        document.querySelector('#df-34c9d8b8-eb8a-4265-b587-b79fcc7e095b button.colab-df-convert');\n",
              "      buttonEl.style.display =\n",
              "        google.colab.kernel.accessAllowed ? 'block' : 'none';\n",
              "\n",
              "      async function convertToInteractive(key) {\n",
              "        const element = document.querySelector('#df-34c9d8b8-eb8a-4265-b587-b79fcc7e095b');\n",
              "        const dataTable =\n",
              "          await google.colab.kernel.invokeFunction('convertToInteractive',\n",
              "                                                    [key], {});\n",
              "        if (!dataTable) return;\n",
              "\n",
              "        const docLinkHtml = 'Like what you see? Visit the ' +\n",
              "          '<a target=\"_blank\" href=https://colab.research.google.com/notebooks/data_table.ipynb>data table notebook</a>'\n",
              "          + ' to learn more about interactive tables.';\n",
              "        element.innerHTML = '';\n",
              "        dataTable['output_type'] = 'display_data';\n",
              "        await google.colab.output.renderOutput(dataTable, element);\n",
              "        const docLink = document.createElement('div');\n",
              "        docLink.innerHTML = docLinkHtml;\n",
              "        element.appendChild(docLink);\n",
              "      }\n",
              "    </script>\n",
              "  </div>\n",
              "\n",
              "\n",
              "<div id=\"df-d0402809-68f5-4112-9161-705298932957\">\n",
              "  <button class=\"colab-df-quickchart\" onclick=\"quickchart('df-d0402809-68f5-4112-9161-705298932957')\"\n",
              "            title=\"Suggest charts\"\n",
              "            style=\"display:none;\">\n",
              "\n",
              "<svg xmlns=\"http://www.w3.org/2000/svg\" height=\"24px\"viewBox=\"0 0 24 24\"\n",
              "     width=\"24px\">\n",
              "    <g>\n",
              "        <path d=\"M19 3H5c-1.1 0-2 .9-2 2v14c0 1.1.9 2 2 2h14c1.1 0 2-.9 2-2V5c0-1.1-.9-2-2-2zM9 17H7v-7h2v7zm4 0h-2V7h2v10zm4 0h-2v-4h2v4z\"/>\n",
              "    </g>\n",
              "</svg>\n",
              "  </button>\n",
              "\n",
              "<style>\n",
              "  .colab-df-quickchart {\n",
              "      --bg-color: #E8F0FE;\n",
              "      --fill-color: #1967D2;\n",
              "      --hover-bg-color: #E2EBFA;\n",
              "      --hover-fill-color: #174EA6;\n",
              "      --disabled-fill-color: #AAA;\n",
              "      --disabled-bg-color: #DDD;\n",
              "  }\n",
              "\n",
              "  [theme=dark] .colab-df-quickchart {\n",
              "      --bg-color: #3B4455;\n",
              "      --fill-color: #D2E3FC;\n",
              "      --hover-bg-color: #434B5C;\n",
              "      --hover-fill-color: #FFFFFF;\n",
              "      --disabled-bg-color: #3B4455;\n",
              "      --disabled-fill-color: #666;\n",
              "  }\n",
              "\n",
              "  .colab-df-quickchart {\n",
              "    background-color: var(--bg-color);\n",
              "    border: none;\n",
              "    border-radius: 50%;\n",
              "    cursor: pointer;\n",
              "    display: none;\n",
              "    fill: var(--fill-color);\n",
              "    height: 32px;\n",
              "    padding: 0;\n",
              "    width: 32px;\n",
              "  }\n",
              "\n",
              "  .colab-df-quickchart:hover {\n",
              "    background-color: var(--hover-bg-color);\n",
              "    box-shadow: 0 1px 2px rgba(60, 64, 67, 0.3), 0 1px 3px 1px rgba(60, 64, 67, 0.15);\n",
              "    fill: var(--button-hover-fill-color);\n",
              "  }\n",
              "\n",
              "  .colab-df-quickchart-complete:disabled,\n",
              "  .colab-df-quickchart-complete:disabled:hover {\n",
              "    background-color: var(--disabled-bg-color);\n",
              "    fill: var(--disabled-fill-color);\n",
              "    box-shadow: none;\n",
              "  }\n",
              "\n",
              "  .colab-df-spinner {\n",
              "    border: 2px solid var(--fill-color);\n",
              "    border-color: transparent;\n",
              "    border-bottom-color: var(--fill-color);\n",
              "    animation:\n",
              "      spin 1s steps(1) infinite;\n",
              "  }\n",
              "\n",
              "  @keyframes spin {\n",
              "    0% {\n",
              "      border-color: transparent;\n",
              "      border-bottom-color: var(--fill-color);\n",
              "      border-left-color: var(--fill-color);\n",
              "    }\n",
              "    20% {\n",
              "      border-color: transparent;\n",
              "      border-left-color: var(--fill-color);\n",
              "      border-top-color: var(--fill-color);\n",
              "    }\n",
              "    30% {\n",
              "      border-color: transparent;\n",
              "      border-left-color: var(--fill-color);\n",
              "      border-top-color: var(--fill-color);\n",
              "      border-right-color: var(--fill-color);\n",
              "    }\n",
              "    40% {\n",
              "      border-color: transparent;\n",
              "      border-right-color: var(--fill-color);\n",
              "      border-top-color: var(--fill-color);\n",
              "    }\n",
              "    60% {\n",
              "      border-color: transparent;\n",
              "      border-right-color: var(--fill-color);\n",
              "    }\n",
              "    80% {\n",
              "      border-color: transparent;\n",
              "      border-right-color: var(--fill-color);\n",
              "      border-bottom-color: var(--fill-color);\n",
              "    }\n",
              "    90% {\n",
              "      border-color: transparent;\n",
              "      border-bottom-color: var(--fill-color);\n",
              "    }\n",
              "  }\n",
              "</style>\n",
              "\n",
              "  <script>\n",
              "    async function quickchart(key) {\n",
              "      const quickchartButtonEl =\n",
              "        document.querySelector('#' + key + ' button');\n",
              "      quickchartButtonEl.disabled = true;  // To prevent multiple clicks.\n",
              "      quickchartButtonEl.classList.add('colab-df-spinner');\n",
              "      try {\n",
              "        const charts = await google.colab.kernel.invokeFunction(\n",
              "            'suggestCharts', [key], {});\n",
              "      } catch (error) {\n",
              "        console.error('Error during call to suggestCharts:', error);\n",
              "      }\n",
              "      quickchartButtonEl.classList.remove('colab-df-spinner');\n",
              "      quickchartButtonEl.classList.add('colab-df-quickchart-complete');\n",
              "    }\n",
              "    (() => {\n",
              "      let quickchartButtonEl =\n",
              "        document.querySelector('#df-d0402809-68f5-4112-9161-705298932957 button');\n",
              "      quickchartButtonEl.style.display =\n",
              "        google.colab.kernel.accessAllowed ? 'block' : 'none';\n",
              "    })();\n",
              "  </script>\n",
              "</div>\n",
              "\n",
              "  <div id=\"id_58d26344-bed7-41c5-ba76-9b5cd97815be\">\n",
              "    <style>\n",
              "      .colab-df-generate {\n",
              "        background-color: #E8F0FE;\n",
              "        border: none;\n",
              "        border-radius: 50%;\n",
              "        cursor: pointer;\n",
              "        display: none;\n",
              "        fill: #1967D2;\n",
              "        height: 32px;\n",
              "        padding: 0 0 0 0;\n",
              "        width: 32px;\n",
              "      }\n",
              "\n",
              "      .colab-df-generate:hover {\n",
              "        background-color: #E2EBFA;\n",
              "        box-shadow: 0px 1px 2px rgba(60, 64, 67, 0.3), 0px 1px 3px 1px rgba(60, 64, 67, 0.15);\n",
              "        fill: #174EA6;\n",
              "      }\n",
              "\n",
              "      [theme=dark] .colab-df-generate {\n",
              "        background-color: #3B4455;\n",
              "        fill: #D2E3FC;\n",
              "      }\n",
              "\n",
              "      [theme=dark] .colab-df-generate:hover {\n",
              "        background-color: #434B5C;\n",
              "        box-shadow: 0px 1px 3px 1px rgba(0, 0, 0, 0.15);\n",
              "        filter: drop-shadow(0px 1px 2px rgba(0, 0, 0, 0.3));\n",
              "        fill: #FFFFFF;\n",
              "      }\n",
              "    </style>\n",
              "    <button class=\"colab-df-generate\" onclick=\"generateWithVariable('df')\"\n",
              "            title=\"Generate code using this dataframe.\"\n",
              "            style=\"display:none;\">\n",
              "\n",
              "  <svg xmlns=\"http://www.w3.org/2000/svg\" height=\"24px\"viewBox=\"0 0 24 24\"\n",
              "       width=\"24px\">\n",
              "    <path d=\"M7,19H8.4L18.45,9,17,7.55,7,17.6ZM5,21V16.75L18.45,3.32a2,2,0,0,1,2.83,0l1.4,1.43a1.91,1.91,0,0,1,.58,1.4,1.91,1.91,0,0,1-.58,1.4L9.25,21ZM18.45,9,17,7.55Zm-12,3A5.31,5.31,0,0,0,4.9,8.1,5.31,5.31,0,0,0,1,6.5,5.31,5.31,0,0,0,4.9,4.9,5.31,5.31,0,0,0,6.5,1,5.31,5.31,0,0,0,8.1,4.9,5.31,5.31,0,0,0,12,6.5,5.46,5.46,0,0,0,6.5,12Z\"/>\n",
              "  </svg>\n",
              "    </button>\n",
              "    <script>\n",
              "      (() => {\n",
              "      const buttonEl =\n",
              "        document.querySelector('#id_58d26344-bed7-41c5-ba76-9b5cd97815be button.colab-df-generate');\n",
              "      buttonEl.style.display =\n",
              "        google.colab.kernel.accessAllowed ? 'block' : 'none';\n",
              "\n",
              "      buttonEl.onclick = () => {\n",
              "        google.colab.notebook.generateWithVariable('df');\n",
              "      }\n",
              "      })();\n",
              "    </script>\n",
              "  </div>\n",
              "\n",
              "    </div>\n",
              "  </div>\n"
            ],
            "application/vnd.google.colaboratory.intrinsic+json": {
              "type": "dataframe",
              "variable_name": "df",
              "repr_error": "'str' object has no attribute 'empty'"
            }
          },
          "metadata": {},
          "execution_count": 4
        }
      ]
    },
    {
      "cell_type": "code",
      "source": [
        "df[\"signs_of_mental_illness\"].value_counts()"
      ],
      "metadata": {
        "id": "euv9Wb-8Xc0a",
        "outputId": "7466ee03-94de-456c-e1e8-f83a3fde0097",
        "colab": {
          "base_uri": "https://localhost:8080/"
        }
      },
      "execution_count": 5,
      "outputs": [
        {
          "output_type": "execute_result",
          "data": {
            "text/plain": [
              "False    1902\n",
              "True      633\n",
              "Name: signs_of_mental_illness, dtype: int64"
            ]
          },
          "metadata": {},
          "execution_count": 5
        }
      ]
    },
    {
      "cell_type": "markdown",
      "source": [
        "#3. Data Preprocessing"
      ],
      "metadata": {
        "id": "rKHmt8efL-QM"
      }
    },
    {
      "cell_type": "markdown",
      "source": [
        "It plays a crucial role in the data analysis process as raw data is often dirty, inconsistent, and not ready to be directly used in machine learning algorithms or other analytical techniques. A generalized step-by-step process would be:\n",
        "\n",
        "* Data cleaning: Identification and handling of any issues in the data, such as missing data, duplicated values, noise, or outliers.\n",
        "\n",
        "* Class balancing (optional): It may be necessary to apply class balancing techniques, such as oversampling (increasing the minority class) or undersampling (reducing the majority class).\n",
        "\n",
        "* Data transformation: Next, data transformation techniques are applied, which may include normalization or standardization of values, encoding categorical variables into numerical formats, or creating new features from existing ones.\n",
        "\n",
        "* Feature selection: If the dataset contains many attributes, feature selection is performed to reduce dimensionality and improve the efficiency and accuracy of models. This can be done using techniques such as correlation analysis, principal component analysis (PCA), or feature selection algorithms.\n",
        "\n",
        "* Data splitting: The data is divided into training and testing sets. The training set is used to train the model, while the testing set is used to evaluate its performance.\n"
      ],
      "metadata": {
        "id": "58BAbnFsXqv6"
      }
    },
    {
      "cell_type": "markdown",
      "source": [
        "A quick analysis of the raw data from the provided CSV file was conducted, and it was decided that some attribute removals would be beneficial during the loading process:\n",
        "\n",
        "* Removing ***'name'***: It was deemed unnecessary since using it as an input parameter or target would be detrimental to the model, given that each object has a unique label (each individual's name is unique).\n",
        "* Removing ***'date'***: Similar to 'name', there is subjectivity in the attribute, leading to its exclusion.\n",
        "* Removing ***'city'***: It becomes unnecessary since there is already an attribute related to the state."
      ],
      "metadata": {
        "id": "0G_Ogpm2akjH"
      }
    },
    {
      "cell_type": "code",
      "source": [
        "df.drop(columns=[\"name\", \"date\"], axis=1, inplace=True)"
      ],
      "metadata": {
        "id": "rX9TTyq1hx6U"
      },
      "execution_count": 6,
      "outputs": []
    },
    {
      "cell_type": "markdown",
      "source": [
        "## 3.1 Removing 'NaN' values\n"
      ],
      "metadata": {
        "id": "zeALuE0JiODX"
      }
    },
    {
      "cell_type": "markdown",
      "source": [
        "There are several possibilities for dealing with missing data, and below I will mention some of them along with their benefits:\n",
        "\n",
        "* **Instance deletion**: Useful when the amount of missing data is small compared to the dataset size. Deletion can preserve the integrity of the remaining data, but it may lead to a reduced dataset and loss of information.\n",
        "\n",
        "* **Attribute deletion:** Variables with a large number of NaN values are removed. This approach is good when the attribute is not essential for the analysis, but it may result in the loss of important information.\n",
        "\n",
        "* **Filling with fixed values**: Using mean, median, or mode. This approach can be detrimental when there is a high number of NaN values, as it can introduce bias into the data.\n",
        "\n",
        "* **Statistical imputation**: Estimated using statistical techniques (e.g., KNN or Linear Regression). Provides more accurate estimates and is more suitable when the data is informative.\n",
        "\n",
        "* **Implementing Machine Learning algorithms**: Utilizing predictive models such as Decision Trees. Appropriate when missing data is related to complex patterns."
      ],
      "metadata": {
        "id": "hJSC1Ug3mH4h"
      }
    },
    {
      "cell_type": "code",
      "source": [
        "nan_counts = df.isna().sum()\n",
        "print(nan_counts)"
      ],
      "metadata": {
        "colab": {
          "base_uri": "https://localhost:8080/"
        },
        "id": "qJQ70NjDhCQ7",
        "outputId": "35196248-3058-472f-d44d-cd9671024391"
      },
      "execution_count": 7,
      "outputs": [
        {
          "output_type": "stream",
          "name": "stdout",
          "text": [
            "manner_of_death              0\n",
            "armed                        9\n",
            "age                         77\n",
            "gender                       0\n",
            "race                       195\n",
            "city                         0\n",
            "state                        0\n",
            "signs_of_mental_illness      0\n",
            "threat_level                 0\n",
            "flee                        65\n",
            "body_camera                  0\n",
            "dtype: int64\n"
          ]
        }
      ]
    },
    {
      "cell_type": "markdown",
      "source": [
        "Afterwards, the number of instances with NaN values was evaluated for each attribute and it was observed that there were 195 missing instances for ***'race'***, 9 for ***'armed'***, and 65 for ***'flee'***. Since the dataset has a significantly larger number of instances compared to the missing data, it was decided to remove these instances to ensure the integrity of the remaining data."
      ],
      "metadata": {
        "id": "4dLEd7Ijh919"
      }
    },
    {
      "cell_type": "code",
      "source": [
        "df['race'].replace('', np.nan, inplace=True)\n",
        "df.dropna(subset=['race'], inplace=True)\n",
        "\n",
        "df['flee'].replace('', np.nan, inplace=True)\n",
        "df.dropna(subset=['flee'], inplace=True)\n",
        "\n",
        "df['armed'].replace('', np.nan, inplace=True)\n",
        "df.dropna(subset=['armed'], inplace=True)"
      ],
      "metadata": {
        "id": "rLGqPiY0ji93"
      },
      "execution_count": 8,
      "outputs": []
    },
    {
      "cell_type": "markdown",
      "source": [
        "Regarding the attribute ***'age'***, it has been decided to use statistical imputation with the KNN method. This method was chosen as linear regression is more effective when there is correlation among variables and patterns in the data. Additionally, KNN exhibits better performance compared to simple methods (such as fixed values) taking into account the structure and relationship of the data, thereby providing more accurate estimates."
      ],
      "metadata": {
        "id": "JPk4W705kDUT"
      }
    },
    {
      "cell_type": "code",
      "source": [
        "imputer = KNNImputer(n_neighbors=5, weights =\"distance\")\n",
        "\n",
        "df[\"age\"] = imputer.fit_transform(df[[\"age\"]])\n",
        "\n",
        "nan_counts = df.isna().sum()\n",
        "print(nan_counts)"
      ],
      "metadata": {
        "id": "hyTwHcrrVTOw",
        "outputId": "14312ddc-f285-40b0-8b30-de94df0be6a0",
        "colab": {
          "base_uri": "https://localhost:8080/"
        }
      },
      "execution_count": 9,
      "outputs": [
        {
          "output_type": "stream",
          "name": "stdout",
          "text": [
            "manner_of_death            0\n",
            "armed                      0\n",
            "age                        0\n",
            "gender                     0\n",
            "race                       0\n",
            "city                       0\n",
            "state                      0\n",
            "signs_of_mental_illness    0\n",
            "threat_level               0\n",
            "flee                       0\n",
            "body_camera                0\n",
            "dtype: int64\n"
          ]
        }
      ]
    },
    {
      "cell_type": "markdown",
      "source": [
        "##3.2 Inconsistencies and Duplicates Removal"
      ],
      "metadata": {
        "id": "00MWlhq9XTyF"
      }
    },
    {
      "cell_type": "markdown",
      "source": [
        "This process is performed to avoid inconsistencies in the data, increase the reliability, quality of the results, and improve the performance of the models:\n",
        "\n",
        "* It is inconsistent to state that the individual's age is less than 0.0\n",
        "* Duplicate rows in the DataFrame are also discarded"
      ],
      "metadata": {
        "id": "CaVjTjZZXbnO"
      }
    },
    {
      "cell_type": "code",
      "source": [
        "correct = df[\"age\"] >= 0.00\n",
        "df = df[correct]\n",
        "\n",
        "df.drop_duplicates()"
      ],
      "metadata": {
        "id": "D_rQezZvYRQi",
        "outputId": "e5dbefbf-1027-4133-fd5c-5ddb120c480f",
        "colab": {
          "base_uri": "https://localhost:8080/",
          "height": 455
        }
      },
      "execution_count": 10,
      "outputs": [
        {
          "output_type": "execute_result",
          "data": {
            "text/plain": [
              "       manner_of_death       armed        age gender race           city  \\\n",
              "id                                                                         \n",
              "3                 shot         gun  53.000000      M    A        Shelton   \n",
              "4                 shot         gun  47.000000      M    W          Aloha   \n",
              "5     shot and Tasered     unarmed  23.000000      M    H        Wichita   \n",
              "8                 shot  toy weapon  32.000000      M    W  San Francisco   \n",
              "9                 shot    nail gun  39.000000      M    H          Evans   \n",
              "...                ...         ...        ...    ...  ...            ...   \n",
              "2808              shot     vehicle  25.000000      M    B         Dayton   \n",
              "2820              shot         gun  39.000000      M    B          Homer   \n",
              "2812              shot       knife  36.254215      M    H     Chowchilla   \n",
              "2817              shot     vehicle  28.000000      M    B        Oshkosh   \n",
              "2815              shot       knife  32.000000      M    B       Brooklyn   \n",
              "\n",
              "     state  signs_of_mental_illness threat_level         flee  body_camera  \n",
              "id                                                                          \n",
              "3       WA                     True       attack  Not fleeing        False  \n",
              "4       OR                    False       attack  Not fleeing        False  \n",
              "5       KS                    False        other  Not fleeing        False  \n",
              "8       CA                     True       attack  Not fleeing        False  \n",
              "9       CO                    False       attack  Not fleeing        False  \n",
              "...    ...                      ...          ...          ...          ...  \n",
              "2808    OH                    False       attack          Car        False  \n",
              "2820    LA                    False       attack          Car        False  \n",
              "2812    CA                    False       attack  Not fleeing        False  \n",
              "2817    WI                    False       attack          Car         True  \n",
              "2815    NY                     True       attack  Not fleeing        False  \n",
              "\n",
              "[2278 rows x 11 columns]"
            ],
            "text/html": [
              "\n",
              "  <div id=\"df-7b7350f4-2ecd-4bde-b732-a5c0339a4db3\" class=\"colab-df-container\">\n",
              "    <div>\n",
              "<style scoped>\n",
              "    .dataframe tbody tr th:only-of-type {\n",
              "        vertical-align: middle;\n",
              "    }\n",
              "\n",
              "    .dataframe tbody tr th {\n",
              "        vertical-align: top;\n",
              "    }\n",
              "\n",
              "    .dataframe thead th {\n",
              "        text-align: right;\n",
              "    }\n",
              "</style>\n",
              "<table border=\"1\" class=\"dataframe\">\n",
              "  <thead>\n",
              "    <tr style=\"text-align: right;\">\n",
              "      <th></th>\n",
              "      <th>manner_of_death</th>\n",
              "      <th>armed</th>\n",
              "      <th>age</th>\n",
              "      <th>gender</th>\n",
              "      <th>race</th>\n",
              "      <th>city</th>\n",
              "      <th>state</th>\n",
              "      <th>signs_of_mental_illness</th>\n",
              "      <th>threat_level</th>\n",
              "      <th>flee</th>\n",
              "      <th>body_camera</th>\n",
              "    </tr>\n",
              "    <tr>\n",
              "      <th>id</th>\n",
              "      <th></th>\n",
              "      <th></th>\n",
              "      <th></th>\n",
              "      <th></th>\n",
              "      <th></th>\n",
              "      <th></th>\n",
              "      <th></th>\n",
              "      <th></th>\n",
              "      <th></th>\n",
              "      <th></th>\n",
              "      <th></th>\n",
              "    </tr>\n",
              "  </thead>\n",
              "  <tbody>\n",
              "    <tr>\n",
              "      <th>3</th>\n",
              "      <td>shot</td>\n",
              "      <td>gun</td>\n",
              "      <td>53.000000</td>\n",
              "      <td>M</td>\n",
              "      <td>A</td>\n",
              "      <td>Shelton</td>\n",
              "      <td>WA</td>\n",
              "      <td>True</td>\n",
              "      <td>attack</td>\n",
              "      <td>Not fleeing</td>\n",
              "      <td>False</td>\n",
              "    </tr>\n",
              "    <tr>\n",
              "      <th>4</th>\n",
              "      <td>shot</td>\n",
              "      <td>gun</td>\n",
              "      <td>47.000000</td>\n",
              "      <td>M</td>\n",
              "      <td>W</td>\n",
              "      <td>Aloha</td>\n",
              "      <td>OR</td>\n",
              "      <td>False</td>\n",
              "      <td>attack</td>\n",
              "      <td>Not fleeing</td>\n",
              "      <td>False</td>\n",
              "    </tr>\n",
              "    <tr>\n",
              "      <th>5</th>\n",
              "      <td>shot and Tasered</td>\n",
              "      <td>unarmed</td>\n",
              "      <td>23.000000</td>\n",
              "      <td>M</td>\n",
              "      <td>H</td>\n",
              "      <td>Wichita</td>\n",
              "      <td>KS</td>\n",
              "      <td>False</td>\n",
              "      <td>other</td>\n",
              "      <td>Not fleeing</td>\n",
              "      <td>False</td>\n",
              "    </tr>\n",
              "    <tr>\n",
              "      <th>8</th>\n",
              "      <td>shot</td>\n",
              "      <td>toy weapon</td>\n",
              "      <td>32.000000</td>\n",
              "      <td>M</td>\n",
              "      <td>W</td>\n",
              "      <td>San Francisco</td>\n",
              "      <td>CA</td>\n",
              "      <td>True</td>\n",
              "      <td>attack</td>\n",
              "      <td>Not fleeing</td>\n",
              "      <td>False</td>\n",
              "    </tr>\n",
              "    <tr>\n",
              "      <th>9</th>\n",
              "      <td>shot</td>\n",
              "      <td>nail gun</td>\n",
              "      <td>39.000000</td>\n",
              "      <td>M</td>\n",
              "      <td>H</td>\n",
              "      <td>Evans</td>\n",
              "      <td>CO</td>\n",
              "      <td>False</td>\n",
              "      <td>attack</td>\n",
              "      <td>Not fleeing</td>\n",
              "      <td>False</td>\n",
              "    </tr>\n",
              "    <tr>\n",
              "      <th>...</th>\n",
              "      <td>...</td>\n",
              "      <td>...</td>\n",
              "      <td>...</td>\n",
              "      <td>...</td>\n",
              "      <td>...</td>\n",
              "      <td>...</td>\n",
              "      <td>...</td>\n",
              "      <td>...</td>\n",
              "      <td>...</td>\n",
              "      <td>...</td>\n",
              "      <td>...</td>\n",
              "    </tr>\n",
              "    <tr>\n",
              "      <th>2808</th>\n",
              "      <td>shot</td>\n",
              "      <td>vehicle</td>\n",
              "      <td>25.000000</td>\n",
              "      <td>M</td>\n",
              "      <td>B</td>\n",
              "      <td>Dayton</td>\n",
              "      <td>OH</td>\n",
              "      <td>False</td>\n",
              "      <td>attack</td>\n",
              "      <td>Car</td>\n",
              "      <td>False</td>\n",
              "    </tr>\n",
              "    <tr>\n",
              "      <th>2820</th>\n",
              "      <td>shot</td>\n",
              "      <td>gun</td>\n",
              "      <td>39.000000</td>\n",
              "      <td>M</td>\n",
              "      <td>B</td>\n",
              "      <td>Homer</td>\n",
              "      <td>LA</td>\n",
              "      <td>False</td>\n",
              "      <td>attack</td>\n",
              "      <td>Car</td>\n",
              "      <td>False</td>\n",
              "    </tr>\n",
              "    <tr>\n",
              "      <th>2812</th>\n",
              "      <td>shot</td>\n",
              "      <td>knife</td>\n",
              "      <td>36.254215</td>\n",
              "      <td>M</td>\n",
              "      <td>H</td>\n",
              "      <td>Chowchilla</td>\n",
              "      <td>CA</td>\n",
              "      <td>False</td>\n",
              "      <td>attack</td>\n",
              "      <td>Not fleeing</td>\n",
              "      <td>False</td>\n",
              "    </tr>\n",
              "    <tr>\n",
              "      <th>2817</th>\n",
              "      <td>shot</td>\n",
              "      <td>vehicle</td>\n",
              "      <td>28.000000</td>\n",
              "      <td>M</td>\n",
              "      <td>B</td>\n",
              "      <td>Oshkosh</td>\n",
              "      <td>WI</td>\n",
              "      <td>False</td>\n",
              "      <td>attack</td>\n",
              "      <td>Car</td>\n",
              "      <td>True</td>\n",
              "    </tr>\n",
              "    <tr>\n",
              "      <th>2815</th>\n",
              "      <td>shot</td>\n",
              "      <td>knife</td>\n",
              "      <td>32.000000</td>\n",
              "      <td>M</td>\n",
              "      <td>B</td>\n",
              "      <td>Brooklyn</td>\n",
              "      <td>NY</td>\n",
              "      <td>True</td>\n",
              "      <td>attack</td>\n",
              "      <td>Not fleeing</td>\n",
              "      <td>False</td>\n",
              "    </tr>\n",
              "  </tbody>\n",
              "</table>\n",
              "<p>2278 rows × 11 columns</p>\n",
              "</div>\n",
              "    <div class=\"colab-df-buttons\">\n",
              "\n",
              "  <div class=\"colab-df-container\">\n",
              "    <button class=\"colab-df-convert\" onclick=\"convertToInteractive('df-7b7350f4-2ecd-4bde-b732-a5c0339a4db3')\"\n",
              "            title=\"Convert this dataframe to an interactive table.\"\n",
              "            style=\"display:none;\">\n",
              "\n",
              "  <svg xmlns=\"http://www.w3.org/2000/svg\" height=\"24px\" viewBox=\"0 -960 960 960\">\n",
              "    <path d=\"M120-120v-720h720v720H120Zm60-500h600v-160H180v160Zm220 220h160v-160H400v160Zm0 220h160v-160H400v160ZM180-400h160v-160H180v160Zm440 0h160v-160H620v160ZM180-180h160v-160H180v160Zm440 0h160v-160H620v160Z\"/>\n",
              "  </svg>\n",
              "    </button>\n",
              "\n",
              "  <style>\n",
              "    .colab-df-container {\n",
              "      display:flex;\n",
              "      gap: 12px;\n",
              "    }\n",
              "\n",
              "    .colab-df-convert {\n",
              "      background-color: #E8F0FE;\n",
              "      border: none;\n",
              "      border-radius: 50%;\n",
              "      cursor: pointer;\n",
              "      display: none;\n",
              "      fill: #1967D2;\n",
              "      height: 32px;\n",
              "      padding: 0 0 0 0;\n",
              "      width: 32px;\n",
              "    }\n",
              "\n",
              "    .colab-df-convert:hover {\n",
              "      background-color: #E2EBFA;\n",
              "      box-shadow: 0px 1px 2px rgba(60, 64, 67, 0.3), 0px 1px 3px 1px rgba(60, 64, 67, 0.15);\n",
              "      fill: #174EA6;\n",
              "    }\n",
              "\n",
              "    .colab-df-buttons div {\n",
              "      margin-bottom: 4px;\n",
              "    }\n",
              "\n",
              "    [theme=dark] .colab-df-convert {\n",
              "      background-color: #3B4455;\n",
              "      fill: #D2E3FC;\n",
              "    }\n",
              "\n",
              "    [theme=dark] .colab-df-convert:hover {\n",
              "      background-color: #434B5C;\n",
              "      box-shadow: 0px 1px 3px 1px rgba(0, 0, 0, 0.15);\n",
              "      filter: drop-shadow(0px 1px 2px rgba(0, 0, 0, 0.3));\n",
              "      fill: #FFFFFF;\n",
              "    }\n",
              "  </style>\n",
              "\n",
              "    <script>\n",
              "      const buttonEl =\n",
              "        document.querySelector('#df-7b7350f4-2ecd-4bde-b732-a5c0339a4db3 button.colab-df-convert');\n",
              "      buttonEl.style.display =\n",
              "        google.colab.kernel.accessAllowed ? 'block' : 'none';\n",
              "\n",
              "      async function convertToInteractive(key) {\n",
              "        const element = document.querySelector('#df-7b7350f4-2ecd-4bde-b732-a5c0339a4db3');\n",
              "        const dataTable =\n",
              "          await google.colab.kernel.invokeFunction('convertToInteractive',\n",
              "                                                    [key], {});\n",
              "        if (!dataTable) return;\n",
              "\n",
              "        const docLinkHtml = 'Like what you see? Visit the ' +\n",
              "          '<a target=\"_blank\" href=https://colab.research.google.com/notebooks/data_table.ipynb>data table notebook</a>'\n",
              "          + ' to learn more about interactive tables.';\n",
              "        element.innerHTML = '';\n",
              "        dataTable['output_type'] = 'display_data';\n",
              "        await google.colab.output.renderOutput(dataTable, element);\n",
              "        const docLink = document.createElement('div');\n",
              "        docLink.innerHTML = docLinkHtml;\n",
              "        element.appendChild(docLink);\n",
              "      }\n",
              "    </script>\n",
              "  </div>\n",
              "\n",
              "\n",
              "<div id=\"df-5d5cdee7-23e1-447e-9461-c165a6ecc195\">\n",
              "  <button class=\"colab-df-quickchart\" onclick=\"quickchart('df-5d5cdee7-23e1-447e-9461-c165a6ecc195')\"\n",
              "            title=\"Suggest charts\"\n",
              "            style=\"display:none;\">\n",
              "\n",
              "<svg xmlns=\"http://www.w3.org/2000/svg\" height=\"24px\"viewBox=\"0 0 24 24\"\n",
              "     width=\"24px\">\n",
              "    <g>\n",
              "        <path d=\"M19 3H5c-1.1 0-2 .9-2 2v14c0 1.1.9 2 2 2h14c1.1 0 2-.9 2-2V5c0-1.1-.9-2-2-2zM9 17H7v-7h2v7zm4 0h-2V7h2v10zm4 0h-2v-4h2v4z\"/>\n",
              "    </g>\n",
              "</svg>\n",
              "  </button>\n",
              "\n",
              "<style>\n",
              "  .colab-df-quickchart {\n",
              "      --bg-color: #E8F0FE;\n",
              "      --fill-color: #1967D2;\n",
              "      --hover-bg-color: #E2EBFA;\n",
              "      --hover-fill-color: #174EA6;\n",
              "      --disabled-fill-color: #AAA;\n",
              "      --disabled-bg-color: #DDD;\n",
              "  }\n",
              "\n",
              "  [theme=dark] .colab-df-quickchart {\n",
              "      --bg-color: #3B4455;\n",
              "      --fill-color: #D2E3FC;\n",
              "      --hover-bg-color: #434B5C;\n",
              "      --hover-fill-color: #FFFFFF;\n",
              "      --disabled-bg-color: #3B4455;\n",
              "      --disabled-fill-color: #666;\n",
              "  }\n",
              "\n",
              "  .colab-df-quickchart {\n",
              "    background-color: var(--bg-color);\n",
              "    border: none;\n",
              "    border-radius: 50%;\n",
              "    cursor: pointer;\n",
              "    display: none;\n",
              "    fill: var(--fill-color);\n",
              "    height: 32px;\n",
              "    padding: 0;\n",
              "    width: 32px;\n",
              "  }\n",
              "\n",
              "  .colab-df-quickchart:hover {\n",
              "    background-color: var(--hover-bg-color);\n",
              "    box-shadow: 0 1px 2px rgba(60, 64, 67, 0.3), 0 1px 3px 1px rgba(60, 64, 67, 0.15);\n",
              "    fill: var(--button-hover-fill-color);\n",
              "  }\n",
              "\n",
              "  .colab-df-quickchart-complete:disabled,\n",
              "  .colab-df-quickchart-complete:disabled:hover {\n",
              "    background-color: var(--disabled-bg-color);\n",
              "    fill: var(--disabled-fill-color);\n",
              "    box-shadow: none;\n",
              "  }\n",
              "\n",
              "  .colab-df-spinner {\n",
              "    border: 2px solid var(--fill-color);\n",
              "    border-color: transparent;\n",
              "    border-bottom-color: var(--fill-color);\n",
              "    animation:\n",
              "      spin 1s steps(1) infinite;\n",
              "  }\n",
              "\n",
              "  @keyframes spin {\n",
              "    0% {\n",
              "      border-color: transparent;\n",
              "      border-bottom-color: var(--fill-color);\n",
              "      border-left-color: var(--fill-color);\n",
              "    }\n",
              "    20% {\n",
              "      border-color: transparent;\n",
              "      border-left-color: var(--fill-color);\n",
              "      border-top-color: var(--fill-color);\n",
              "    }\n",
              "    30% {\n",
              "      border-color: transparent;\n",
              "      border-left-color: var(--fill-color);\n",
              "      border-top-color: var(--fill-color);\n",
              "      border-right-color: var(--fill-color);\n",
              "    }\n",
              "    40% {\n",
              "      border-color: transparent;\n",
              "      border-right-color: var(--fill-color);\n",
              "      border-top-color: var(--fill-color);\n",
              "    }\n",
              "    60% {\n",
              "      border-color: transparent;\n",
              "      border-right-color: var(--fill-color);\n",
              "    }\n",
              "    80% {\n",
              "      border-color: transparent;\n",
              "      border-right-color: var(--fill-color);\n",
              "      border-bottom-color: var(--fill-color);\n",
              "    }\n",
              "    90% {\n",
              "      border-color: transparent;\n",
              "      border-bottom-color: var(--fill-color);\n",
              "    }\n",
              "  }\n",
              "</style>\n",
              "\n",
              "  <script>\n",
              "    async function quickchart(key) {\n",
              "      const quickchartButtonEl =\n",
              "        document.querySelector('#' + key + ' button');\n",
              "      quickchartButtonEl.disabled = true;  // To prevent multiple clicks.\n",
              "      quickchartButtonEl.classList.add('colab-df-spinner');\n",
              "      try {\n",
              "        const charts = await google.colab.kernel.invokeFunction(\n",
              "            'suggestCharts', [key], {});\n",
              "      } catch (error) {\n",
              "        console.error('Error during call to suggestCharts:', error);\n",
              "      }\n",
              "      quickchartButtonEl.classList.remove('colab-df-spinner');\n",
              "      quickchartButtonEl.classList.add('colab-df-quickchart-complete');\n",
              "    }\n",
              "    (() => {\n",
              "      let quickchartButtonEl =\n",
              "        document.querySelector('#df-5d5cdee7-23e1-447e-9461-c165a6ecc195 button');\n",
              "      quickchartButtonEl.style.display =\n",
              "        google.colab.kernel.accessAllowed ? 'block' : 'none';\n",
              "    })();\n",
              "  </script>\n",
              "</div>\n",
              "\n",
              "    </div>\n",
              "  </div>\n"
            ],
            "application/vnd.google.colaboratory.intrinsic+json": {
              "type": "dataframe",
              "summary": "{\n  \"name\": \"df\",\n  \"rows\": 2278,\n  \"fields\": [\n    {\n      \"column\": \"manner_of_death\",\n      \"properties\": {\n        \"dtype\": \"category\",\n        \"num_unique_values\": 2,\n        \"samples\": [\n          \"shot and Tasered\",\n          \"shot\"\n        ],\n        \"semantic_type\": \"\",\n        \"description\": \"\"\n      }\n    },\n    {\n      \"column\": \"armed\",\n      \"properties\": {\n        \"dtype\": \"category\",\n        \"num_unique_values\": 67,\n        \"samples\": [\n          \"gun and knife\",\n          \"flagpole\"\n        ],\n        \"semantic_type\": \"\",\n        \"description\": \"\"\n      }\n    },\n    {\n      \"column\": \"age\",\n      \"properties\": {\n        \"dtype\": \"number\",\n        \"std\": 12.75644978379439,\n        \"min\": 6.0,\n        \"max\": 91.0,\n        \"num_unique_values\": 73,\n        \"samples\": [\n          39.0,\n          6.0\n        ],\n        \"semantic_type\": \"\",\n        \"description\": \"\"\n      }\n    },\n    {\n      \"column\": \"gender\",\n      \"properties\": {\n        \"dtype\": \"category\",\n        \"num_unique_values\": 2,\n        \"samples\": [\n          \"F\",\n          \"M\"\n        ],\n        \"semantic_type\": \"\",\n        \"description\": \"\"\n      }\n    },\n    {\n      \"column\": \"race\",\n      \"properties\": {\n        \"dtype\": \"category\",\n        \"num_unique_values\": 6,\n        \"samples\": [\n          \"A\",\n          \"W\"\n        ],\n        \"semantic_type\": \"\",\n        \"description\": \"\"\n      }\n    },\n    {\n      \"column\": \"city\",\n      \"properties\": {\n        \"dtype\": \"string\",\n        \"num_unique_values\": 1296,\n        \"samples\": [\n          \"Goose Creek\",\n          \"Fort Wayne\"\n        ],\n        \"semantic_type\": \"\",\n        \"description\": \"\"\n      }\n    },\n    {\n      \"column\": \"state\",\n      \"properties\": {\n        \"dtype\": \"category\",\n        \"num_unique_values\": 51,\n        \"samples\": [\n          \"WV\",\n          \"SC\"\n        ],\n        \"semantic_type\": \"\",\n        \"description\": \"\"\n      }\n    },\n    {\n      \"column\": \"signs_of_mental_illness\",\n      \"properties\": {\n        \"dtype\": \"boolean\",\n        \"num_unique_values\": 2,\n        \"samples\": [\n          false,\n          true\n        ],\n        \"semantic_type\": \"\",\n        \"description\": \"\"\n      }\n    },\n    {\n      \"column\": \"threat_level\",\n      \"properties\": {\n        \"dtype\": \"category\",\n        \"num_unique_values\": 3,\n        \"samples\": [\n          \"attack\",\n          \"other\"\n        ],\n        \"semantic_type\": \"\",\n        \"description\": \"\"\n      }\n    },\n    {\n      \"column\": \"flee\",\n      \"properties\": {\n        \"dtype\": \"category\",\n        \"num_unique_values\": 4,\n        \"samples\": [\n          \"Car\",\n          \"Other\"\n        ],\n        \"semantic_type\": \"\",\n        \"description\": \"\"\n      }\n    },\n    {\n      \"column\": \"body_camera\",\n      \"properties\": {\n        \"dtype\": \"boolean\",\n        \"num_unique_values\": 2,\n        \"samples\": [\n          true,\n          false\n        ],\n        \"semantic_type\": \"\",\n        \"description\": \"\"\n      }\n    }\n  ]\n}"
            }
          },
          "metadata": {},
          "execution_count": 10
        }
      ]
    },
    {
      "cell_type": "markdown",
      "source": [
        "## 3.3 Balance"
      ],
      "metadata": {
        "id": "gvHVUlsYZGJt"
      }
    },
    {
      "cell_type": "markdown",
      "source": [
        "To address an imbalance in the distribution of classes in the dataset, a random oversampling of the dataframe is performed, artificially increasing the quantity of objects in the minority classes. Class imbalance can be problematic in machine learning problems, especially in classification tasks, as it can lead to bias in the resulting model."
      ],
      "metadata": {
        "id": "zXGwVVx3Wdev"
      }
    },
    {
      "cell_type": "code",
      "source": [
        "from imblearn.over_sampling import RandomOverSampler\n",
        "\n",
        "ros = RandomOverSampler()\n",
        "X = df.drop(['signs_of_mental_illness'], axis=1)\n",
        "y = df.signs_of_mental_illness\n",
        "X_resampled, y_resampled = ros.fit_resample(X, y)"
      ],
      "metadata": {
        "id": "O_3M-y0yWg8W"
      },
      "execution_count": 16,
      "outputs": []
    },
    {
      "cell_type": "code",
      "source": [
        "import seaborn as sns\n",
        "\n",
        "#Before\n",
        "sns.countplot(x=y)"
      ],
      "metadata": {
        "id": "T8HVJIrA5KfC",
        "outputId": "b0c7a17a-7cf3-428c-8ae6-e262c7322911",
        "colab": {
          "base_uri": "https://localhost:8080/",
          "height": 467
        }
      },
      "execution_count": 20,
      "outputs": [
        {
          "output_type": "execute_result",
          "data": {
            "text/plain": [
              "<Axes: xlabel='signs_of_mental_illness', ylabel='count'>"
            ]
          },
          "metadata": {},
          "execution_count": 20
        },
        {
          "output_type": "display_data",
          "data": {
            "text/plain": [
              "<Figure size 640x480 with 1 Axes>"
            ],
            "image/png": "[encoded data removed]"
          },
          "metadata": {}
        }
      ]
    },
    {
      "cell_type": "code",
      "source": [
        "#After\n",
        "sns.countplot(x=y_resampled)"
      ],
      "metadata": {
        "id": "E-q64VY35NWQ",
        "outputId": "2675ed87-6fe9-4123-e26a-79e5796fadbe",
        "colab": {
          "base_uri": "https://localhost:8080/",
          "height": 467
        }
      },
      "execution_count": 21,
      "outputs": [
        {
          "output_type": "execute_result",
          "data": {
            "text/plain": [
              "<Axes: xlabel='signs_of_mental_illness', ylabel='count'>"
            ]
          },
          "metadata": {},
          "execution_count": 21
        },
        {
          "output_type": "display_data",
          "data": {
            "text/plain": [
              "<Figure size 640x480 with 1 Axes>"
            ],
            "image/png": "[encoded data removed]"
          },
          "metadata": {}
        }
      ]
    },
    {
      "cell_type": "markdown",
      "source": [
        "## 3.4 Transformação dos dados"
      ],
      "metadata": {
        "id": "7XzRMnJEZci2"
      }
    },
    {
      "cell_type": "markdown",
      "source": [
        "### 3.4.1 One-Hot-Encoding"
      ],
      "metadata": {
        "id": "3lRZDth7ZgfJ"
      }
    },
    {
      "cell_type": "markdown",
      "source": [
        "\n",
        "One-hot encoding is a technique in machine learning used to represent categorical variables numerically. It works by converting categorical variables into a binary matrix where each category is represented by a binary value (0 or 1). Here's how it works: first, you identify all unique categories present in the categorical variable. Then, for each unique category, a new binary column is created. If a data point belongs to a particular category, the corresponding binary column is set to 1; otherwise, it's set to 0."
      ],
      "metadata": {
        "id": "SwJGztm4hnlK"
      }
    },
    {
      "cell_type": "markdown",
      "source": [
        "One-hot encoding is widely used in machine learning, especially in scenarios where categorical variables need to be transformed into a format that can be processed by algorithms expecting numerical input. It's important to note that one-hot encoding increases the dimensionality of the dataset but is necessary for many algorithms to properly interpret categorical data."
      ],
      "metadata": {
        "id": "24Rorfo_hsLu"
      }
    },
    {
      "cell_type": "code",
      "source": [
        "threat_bin = lambda string : 1 if string == \"attack\"  else 0\n",
        "\n",
        "# Convert to attack or not attack (0 or 1)\n",
        "df[\"threat_level\"] = df[\"threat_level\"].apply(threat_bin)"
      ],
      "metadata": {
        "id": "MMmxXZCyda6h"
      },
      "execution_count": 22,
      "outputs": []
    },
    {
      "cell_type": "code",
      "source": [
        "manner_of_death_bin = lambda string : 1 if string == \"shot\"  else 0\n",
        "\n",
        "# Convert Shot or Shot & Tasered (0 or 1)\n",
        "df[\"manner_of_death\"] = df[\"manner_of_death\"].apply(manner_of_death_bin)"
      ],
      "metadata": {
        "id": "KJC3K3EFfXNs"
      },
      "execution_count": null,
      "outputs": []
    },
    {
      "cell_type": "code",
      "source": [
        "gender_bin = lambda string : 1 if string == \"M\" else 0\n",
        "\n",
        "# Convert to Male or Female (0 or 1)\n",
        "df[\"gender\"] = df[\"gender\"].apply(gender_bin)"
      ],
      "metadata": {
        "id": "2MbtlxVMfnG3"
      },
      "execution_count": null,
      "outputs": []
    },
    {
      "cell_type": "code",
      "source": [
        "df"
      ],
      "metadata": {
        "id": "T4X0jwCWiPtO"
      },
      "execution_count": null,
      "outputs": []
    },
    {
      "cell_type": "code",
      "source": [
        "# Perform one-hot encoding\n",
        "one_hot_encoded = pd.get_dummies(df['armed'])\n",
        "\n",
        "# Concatenate the one-hot encoded columns with the original dataframe\n",
        "df_encoded = pd.concat([df, one_hot_encoded], axis=1)"
      ],
      "metadata": {
        "id": "ftN5oDj7djLb"
      },
      "execution_count": null,
      "outputs": []
    },
    {
      "cell_type": "code",
      "source": [
        "# Perform one-hot encoding\n",
        "one_hot_encoded = pd.get_dummies(df_encoded['race'])\n",
        "\n",
        "# Concatenate the one-hot encoded columns with the original dataframe\n",
        "df_encoded = pd.concat([df_encoded, one_hot_encoded], axis=1)"
      ],
      "metadata": {
        "id": "98nt8eHIeAGi"
      },
      "execution_count": null,
      "outputs": []
    },
    {
      "cell_type": "code",
      "source": [
        "# Perform one-hot encoding\n",
        "one_hot_encoded = pd.get_dummies(df_encoded['flee'])\n",
        "\n",
        "# Concatenate the one-hot encoded columns with the original dataframe\n",
        "df = pd.concat([df_encoded, one_hot_encoded], axis=1)"
      ],
      "metadata": {
        "id": "aCvQxoIMeQOi"
      },
      "execution_count": null,
      "outputs": []
    },
    {
      "cell_type": "code",
      "source": [
        "df"
      ],
      "metadata": {
        "id": "d0hrEGvWgUGJ"
      },
      "execution_count": null,
      "outputs": []
    },
    {
      "cell_type": "markdown",
      "source": [
        "### 3.4.2 Data Normalization"
      ],
      "metadata": {
        "id": "QDlMkH5iZlpn"
      }
    },
    {
      "cell_type": "markdown",
      "source": [
        "Data normalization serves to place all variables or features on a common scale, typically between 0 and 1, so that they can be appropriately compared or combined. This procedure is important for algorithms sensitive to scale (e.g., K-means) or when Euclidean distance is used as a measure of similarity between samples or in the application of clustering algorithms."
      ],
      "metadata": {
        "id": "m0oRHL1khUz0"
      }
    },
    {
      "cell_type": "code",
      "source": [
        "from sklearn.preprocessing import StandardScaler\n",
        "\n",
        "# Selecting the numeric columns for normalization\n",
        "numColumns = df.select_dtypes(include='number').columns\n",
        "\n",
        "# Creating an instance of the StandardScaler\n",
        "scaler = StandardScaler()\n",
        "\n",
        "# Applying the min-max scale to the selected columns\n",
        "df[numColumns] = scaler.fit_transform(df[numColumns])"
      ],
      "metadata": {
        "id": "ycp-_MNpifGK"
      },
      "execution_count": null,
      "outputs": []
    },
    {
      "cell_type": "markdown",
      "source": [
        "## 3.5 Boxplot"
      ],
      "metadata": {
        "id": "d46lzIzmaD1l"
      }
    },
    {
      "cell_type": "markdown",
      "source": [
        "With a boxplot, it's possible to identify the presence of outliers, the symmetry of the distribution, the concentration of data around the median, and the variation in the data. This information helps to understand the shape of the distribution and to detect possible anomalous values."
      ],
      "metadata": {
        "id": "Ef_YhtZhVZjG"
      }
    },
    {
      "cell_type": "code",
      "source": [
        "#Boxplot\n",
        "fig = plt.figure()\n",
        "plt.ylabel(\"Values\")\n",
        "plt.xlabel(\"Age\")\n",
        "plt.boxplot([df['age'].values])\n",
        "plt.show()"
      ],
      "metadata": {
        "id": "UBEEVjpdVdDm",
        "outputId": "62edf95a-4c2c-4dec-be88-5c80df7ba29f",
        "colab": {
          "base_uri": "https://localhost:8080/",
          "height": 449
        }
      },
      "execution_count": 9,
      "outputs": [
        {
          "output_type": "display_data",
          "data": {
            "text/plain": [
              "<Figure size 640x480 with 1 Axes>"
            ],
            "image/png": "[encoded data removed]"
          },
          "metadata": {}
        }
      ]
    },
    {
      "cell_type": "markdown",
      "source": [
        "## 3.5 Input and Output"
      ],
      "metadata": {
        "id": "fYwQE6AnY6Tp"
      }
    },
    {
      "cell_type": "markdown",
      "source": [
        "- The attribute 'sings_of_mental_illness' was selected as the output variable of the model for several reasons. First, its completeness of data in all rows was considered crucial to ensure consistency during model training. Additionally, its binary nature, with only two possible outputs (True or False), makes it suitable for a classification problem. This simplicity is advantageous for the prediction process, where the goal is to categorize an instance into one of two classes.\n",
        "\n",
        "- The input attributes are being represented by 'X', while the target attribute by 'y'."
      ],
      "metadata": {
        "id": "zxRU2yVhjg9y"
      }
    },
    {
      "cell_type": "markdown",
      "source": [
        "### 3.5.1 Define Target"
      ],
      "metadata": {
        "id": "oZdKmnaQlmUt"
      }
    },
    {
      "cell_type": "code",
      "source": [
        "#To avoid the target attribute from being included with the input attributes\n",
        "df_copy = df.copy()\n",
        "X = df_copy.drop('signs_of_mental_illness', axis=1)\n",
        "\n",
        "#Define 'signs_of_mental_illness' as target (output)\n",
        "y = df_copy[\"signs_of_mental_illness\"]"
      ],
      "metadata": {
        "id": "Q-gcah14kuiv"
      },
      "execution_count": null,
      "outputs": []
    },
    {
      "cell_type": "markdown",
      "source": [
        "### 3.5.2 Amostragem"
      ],
      "metadata": {
        "id": "jCrbb1-AZp-8"
      }
    },
    {
      "cell_type": "markdown",
      "source": [
        "## 3.6 Pipeline para redução da dimensionalidade dos dados"
      ],
      "metadata": {
        "id": "0tzfzWHQl4d9"
      }
    },
    {
      "cell_type": "markdown",
      "source": [
        "### 3.6.1 Correlação Inicial"
      ],
      "metadata": {
        "id": "04WahvAqZzex"
      }
    },
    {
      "cell_type": "markdown",
      "source": [
        "### 3.6.2 Comparação entre a dimensão final e inicial"
      ],
      "metadata": {
        "id": "QAKTwuezl9Lu"
      }
    },
    {
      "cell_type": "markdown",
      "source": [
        "#4. Aprendizagem Supervisionada"
      ],
      "metadata": {
        "id": "48o6XiW1aIsB"
      }
    },
    {
      "cell_type": "markdown",
      "source": [
        "## 4.1 DecisionTree"
      ],
      "metadata": {
        "id": "MclR01TUaN8u"
      }
    },
    {
      "cell_type": "markdown",
      "source": [
        "## 4.2 KNN"
      ],
      "metadata": {
        "id": "dY1IV6r0aRqN"
      }
    },
    {
      "cell_type": "markdown",
      "source": [
        "## 4.3 RandomForest"
      ],
      "metadata": {
        "id": "vrxLsQx1aT4t"
      }
    },
    {
      "cell_type": "markdown",
      "source": [
        "## 4.4 Naive Bayes"
      ],
      "metadata": {
        "id": "apmsx6ZOad0-"
      }
    }
  ]
}