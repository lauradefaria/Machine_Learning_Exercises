{
  "nbformat": 4,
  "nbformat_minor": 0,
  "metadata": {
    "colab": {
      "provenance": [],
      "authorship_tag": "ABX9TyNaY7oQKuiYb2/wjYxhFI4k"
    },
    "kernelspec": {
      "name": "python3",
      "display_name": "Python 3"
    },
    "language_info": {
      "name": "python"
    }
  },
  "cells": [
    {
      "cell_type": "markdown",
      "source": [
        "# <p style=\"color:darkblue\">Fatal Police Shooting</p>\n",
        "\n",
        "<hr>\n",
        "\n",
        "\n",
        "In this Jupyter-Notebook, I will conduct an analysis of Fatal Police Shootings in the US using supervised machine learning algorithms. The input features for the analysis will be extracted from the dataset obtained from the Kaggle platform, and the output will indicate whether the individual exhibited signs of mental illness, classified as positive or negative. We will follow a step-by-step process, starting from dataset preprocessing and continuing to model validation.\n",
        "\n",
        "<a href=\"https://colab.research.google.com/github/lauradefaria/Machine_Learning_and_Data_Analysis/blob/main/Fatal-Police-Shooting/Fatal_Police_Shootings_English.ipynb\" target=\"_parent\"><img src=\"https://colab.research.google.com/assets/colab-badge.svg\" alt=\"Open In Colab\"/></a>"
      ],
      "metadata": {
        "id": "8C059gs2K8WA"
      }
    },
    {
      "cell_type": "markdown",
      "source": [
        "# 1. Reading Data"
      ],
      "metadata": {
        "id": "Jqt6K3P8X1F6"
      }
    },
    {
      "cell_type": "markdown",
      "source": [
        "\n",
        "At first, we will import all the libraries that will be used throughout the project."
      ],
      "metadata": {
        "id": "SZrtXScid1HB"
      }
    },
    {
      "cell_type": "code",
      "source": [
        "import pandas as pd\n",
        "import numpy as np\n",
        "import matplotlib.pyplot as plt\n",
        "\n",
        "from sklearn.impute import KNNImputer"
      ],
      "metadata": {
        "id": "pfzFgR1od0Ny"
      },
      "execution_count": null,
      "outputs": []
    },
    {
      "cell_type": "markdown",
      "source": [
        "Let's read the dataset that will be used for this work. The dataset can be downloaded from Kaggle or accessed from the repository of this class."
      ],
      "metadata": {
        "id": "fqZuD4saYq9_"
      }
    },
    {
      "cell_type": "code",
      "source": [
        "df_path = \"https://raw.githubusercontent.com/lauradefaria/Machine_Learning_and_Data_Analysis/main/Fatal-Police-Shooting/PS-Dataset/PoliceKillingsUS.csv\""
      ],
      "metadata": {
        "id": "VakqnJWrY5ty"
      },
      "execution_count": null,
      "outputs": []
    },
    {
      "cell_type": "code",
      "source": [
        "df = pd.read_csv(df_path, encoding='cp1252', index_col=0)\n",
        "print(\"Dataset size : \", df.shape)"
      ],
      "metadata": {
        "colab": {
          "base_uri": "https://localhost:8080/"
        },
        "id": "xTZ8JBbuZwnl",
        "outputId": "a99f7d3e-85b3-427b-ea9b-7f7c027e5484"
      },
      "execution_count": null,
      "outputs": [
        {
          "output_type": "stream",
          "name": "stdout",
          "text": [
            "Dataset size :  (2535, 13)\n"
          ]
        }
      ]
    },
    {
      "cell_type": "markdown",
      "source": [
        "# 2. Data Analysis"
      ],
      "metadata": {
        "id": "R7EtPNNSa0L7"
      }
    },
    {
      "cell_type": "markdown",
      "source": [
        "Initially, a brief analysis will be conducted on the attributes of the dataset to assess their relevance to the problem at hand:\n",
        "* ***name:*** Name of the deceased\n",
        "* ***date:*** Date of the occurrence\n",
        "* ***manner_of_death:*** Manner in which the victim was killed\n",
        "* ***armed:*** Whether the victim was holding an object (or unarmed)\n",
        "* ***age:*** Age of the victim\n",
        "* ***gender:*** Gender of the victim (Male/Female)\n",
        "* ***race:*** Race of the victim (Asian/Whine/Native American/Black/Hispanic)\n",
        "* ***city:*** City where the occurrence took place\n",
        "* ***state:*** State in the US where the occurrence took place\n",
        "* ***signs_of_mental_illness:*** Indication of whether the victim exhibited signs of mental illness\n",
        "* ***threat_level:*** Whether the victim posed a threat to the officer or not\n",
        "* ***body_camera:*** Whether the officer was using a body camera or not"
      ],
      "metadata": {
        "id": "flzTLIHTa-WJ"
      }
    },
    {
      "cell_type": "code",
      "source": [
        "df"
      ],
      "metadata": {
        "colab": {
          "base_uri": "https://localhost:8080/",
          "height": 455
        },
        "id": "SKN0NOR4bxd7",
        "outputId": "e05426cc-2d53-4507-d455-fd31121ca1a5"
      },
      "execution_count": null,
      "outputs": [
        {
          "output_type": "execute_result",
          "data": {
            "text/plain": [
              "                    name      date   manner_of_death       armed   age gender  \\\n",
              "id                                                                              \n",
              "3             Tim Elliot  02/01/15              shot         gun  53.0      M   \n",
              "4       Lewis Lee Lembke  02/01/15              shot         gun  47.0      M   \n",
              "5     John Paul Quintero  03/01/15  shot and Tasered     unarmed  23.0      M   \n",
              "8        Matthew Hoffman  04/01/15              shot  toy weapon  32.0      M   \n",
              "9      Michael Rodriguez  04/01/15              shot    nail gun  39.0      M   \n",
              "...                  ...       ...               ...         ...   ...    ...   \n",
              "2822    Rodney E. Jacobs  28/07/17              shot         gun  31.0      M   \n",
              "2813               TK TK  28/07/17              shot     vehicle   NaN      M   \n",
              "2818  Dennis W. Robinson  29/07/17              shot         gun  48.0      M   \n",
              "2817       Isaiah Tucker  31/07/17              shot     vehicle  28.0      M   \n",
              "2815        Dwayne Jeune  31/07/17              shot       knife  32.0      M   \n",
              "\n",
              "     race           city state  signs_of_mental_illness threat_level  \\\n",
              "id                                                                     \n",
              "3       A        Shelton    WA                     True       attack   \n",
              "4       W          Aloha    OR                    False       attack   \n",
              "5       H        Wichita    KS                    False        other   \n",
              "8       W  San Francisco    CA                     True       attack   \n",
              "9       H          Evans    CO                    False       attack   \n",
              "...   ...            ...   ...                      ...          ...   \n",
              "2822  NaN    Kansas City    MO                    False       attack   \n",
              "2813  NaN    Albuquerque    NM                    False       attack   \n",
              "2818  NaN          Melba    ID                    False       attack   \n",
              "2817    B        Oshkosh    WI                    False       attack   \n",
              "2815    B       Brooklyn    NY                     True       attack   \n",
              "\n",
              "             flee  body_camera  \n",
              "id                              \n",
              "3     Not fleeing        False  \n",
              "4     Not fleeing        False  \n",
              "5     Not fleeing        False  \n",
              "8     Not fleeing        False  \n",
              "9     Not fleeing        False  \n",
              "...           ...          ...  \n",
              "2822  Not fleeing        False  \n",
              "2813          Car        False  \n",
              "2818          Car        False  \n",
              "2817          Car         True  \n",
              "2815  Not fleeing        False  \n",
              "\n",
              "[2535 rows x 13 columns]"
            ],
            "text/html": [
              "\n",
              "  <div id=\"df-4f31d462-20dc-475f-a1af-ef9a487462fb\">\n",
              "    <div class=\"colab-df-container\">\n",
              "      <div>\n",
              "<style scoped>\n",
              "    .dataframe tbody tr th:only-of-type {\n",
              "        vertical-align: middle;\n",
              "    }\n",
              "\n",
              "    .dataframe tbody tr th {\n",
              "        vertical-align: top;\n",
              "    }\n",
              "\n",
              "    .dataframe thead th {\n",
              "        text-align: right;\n",
              "    }\n",
              "</style>\n",
              "<table border=\"1\" class=\"dataframe\">\n",
              "  <thead>\n",
              "    <tr style=\"text-align: right;\">\n",
              "      <th></th>\n",
              "      <th>name</th>\n",
              "      <th>date</th>\n",
              "      <th>manner_of_death</th>\n",
              "      <th>armed</th>\n",
              "      <th>age</th>\n",
              "      <th>gender</th>\n",
              "      <th>race</th>\n",
              "      <th>city</th>\n",
              "      <th>state</th>\n",
              "      <th>signs_of_mental_illness</th>\n",
              "      <th>threat_level</th>\n",
              "      <th>flee</th>\n",
              "      <th>body_camera</th>\n",
              "    </tr>\n",
              "    <tr>\n",
              "      <th>id</th>\n",
              "      <th></th>\n",
              "      <th></th>\n",
              "      <th></th>\n",
              "      <th></th>\n",
              "      <th></th>\n",
              "      <th></th>\n",
              "      <th></th>\n",
              "      <th></th>\n",
              "      <th></th>\n",
              "      <th></th>\n",
              "      <th></th>\n",
              "      <th></th>\n",
              "      <th></th>\n",
              "    </tr>\n",
              "  </thead>\n",
              "  <tbody>\n",
              "    <tr>\n",
              "      <th>3</th>\n",
              "      <td>Tim Elliot</td>\n",
              "      <td>02/01/15</td>\n",
              "      <td>shot</td>\n",
              "      <td>gun</td>\n",
              "      <td>53.0</td>\n",
              "      <td>M</td>\n",
              "      <td>A</td>\n",
              "      <td>Shelton</td>\n",
              "      <td>WA</td>\n",
              "      <td>True</td>\n",
              "      <td>attack</td>\n",
              "      <td>Not fleeing</td>\n",
              "      <td>False</td>\n",
              "    </tr>\n",
              "    <tr>\n",
              "      <th>4</th>\n",
              "      <td>Lewis Lee Lembke</td>\n",
              "      <td>02/01/15</td>\n",
              "      <td>shot</td>\n",
              "      <td>gun</td>\n",
              "      <td>47.0</td>\n",
              "      <td>M</td>\n",
              "      <td>W</td>\n",
              "      <td>Aloha</td>\n",
              "      <td>OR</td>\n",
              "      <td>False</td>\n",
              "      <td>attack</td>\n",
              "      <td>Not fleeing</td>\n",
              "      <td>False</td>\n",
              "    </tr>\n",
              "    <tr>\n",
              "      <th>5</th>\n",
              "      <td>John Paul Quintero</td>\n",
              "      <td>03/01/15</td>\n",
              "      <td>shot and Tasered</td>\n",
              "      <td>unarmed</td>\n",
              "      <td>23.0</td>\n",
              "      <td>M</td>\n",
              "      <td>H</td>\n",
              "      <td>Wichita</td>\n",
              "      <td>KS</td>\n",
              "      <td>False</td>\n",
              "      <td>other</td>\n",
              "      <td>Not fleeing</td>\n",
              "      <td>False</td>\n",
              "    </tr>\n",
              "    <tr>\n",
              "      <th>8</th>\n",
              "      <td>Matthew Hoffman</td>\n",
              "      <td>04/01/15</td>\n",
              "      <td>shot</td>\n",
              "      <td>toy weapon</td>\n",
              "      <td>32.0</td>\n",
              "      <td>M</td>\n",
              "      <td>W</td>\n",
              "      <td>San Francisco</td>\n",
              "      <td>CA</td>\n",
              "      <td>True</td>\n",
              "      <td>attack</td>\n",
              "      <td>Not fleeing</td>\n",
              "      <td>False</td>\n",
              "    </tr>\n",
              "    <tr>\n",
              "      <th>9</th>\n",
              "      <td>Michael Rodriguez</td>\n",
              "      <td>04/01/15</td>\n",
              "      <td>shot</td>\n",
              "      <td>nail gun</td>\n",
              "      <td>39.0</td>\n",
              "      <td>M</td>\n",
              "      <td>H</td>\n",
              "      <td>Evans</td>\n",
              "      <td>CO</td>\n",
              "      <td>False</td>\n",
              "      <td>attack</td>\n",
              "      <td>Not fleeing</td>\n",
              "      <td>False</td>\n",
              "    </tr>\n",
              "    <tr>\n",
              "      <th>...</th>\n",
              "      <td>...</td>\n",
              "      <td>...</td>\n",
              "      <td>...</td>\n",
              "      <td>...</td>\n",
              "      <td>...</td>\n",
              "      <td>...</td>\n",
              "      <td>...</td>\n",
              "      <td>...</td>\n",
              "      <td>...</td>\n",
              "      <td>...</td>\n",
              "      <td>...</td>\n",
              "      <td>...</td>\n",
              "      <td>...</td>\n",
              "    </tr>\n",
              "    <tr>\n",
              "      <th>2822</th>\n",
              "      <td>Rodney E. Jacobs</td>\n",
              "      <td>28/07/17</td>\n",
              "      <td>shot</td>\n",
              "      <td>gun</td>\n",
              "      <td>31.0</td>\n",
              "      <td>M</td>\n",
              "      <td>NaN</td>\n",
              "      <td>Kansas City</td>\n",
              "      <td>MO</td>\n",
              "      <td>False</td>\n",
              "      <td>attack</td>\n",
              "      <td>Not fleeing</td>\n",
              "      <td>False</td>\n",
              "    </tr>\n",
              "    <tr>\n",
              "      <th>2813</th>\n",
              "      <td>TK TK</td>\n",
              "      <td>28/07/17</td>\n",
              "      <td>shot</td>\n",
              "      <td>vehicle</td>\n",
              "      <td>NaN</td>\n",
              "      <td>M</td>\n",
              "      <td>NaN</td>\n",
              "      <td>Albuquerque</td>\n",
              "      <td>NM</td>\n",
              "      <td>False</td>\n",
              "      <td>attack</td>\n",
              "      <td>Car</td>\n",
              "      <td>False</td>\n",
              "    </tr>\n",
              "    <tr>\n",
              "      <th>2818</th>\n",
              "      <td>Dennis W. Robinson</td>\n",
              "      <td>29/07/17</td>\n",
              "      <td>shot</td>\n",
              "      <td>gun</td>\n",
              "      <td>48.0</td>\n",
              "      <td>M</td>\n",
              "      <td>NaN</td>\n",
              "      <td>Melba</td>\n",
              "      <td>ID</td>\n",
              "      <td>False</td>\n",
              "      <td>attack</td>\n",
              "      <td>Car</td>\n",
              "      <td>False</td>\n",
              "    </tr>\n",
              "    <tr>\n",
              "      <th>2817</th>\n",
              "      <td>Isaiah Tucker</td>\n",
              "      <td>31/07/17</td>\n",
              "      <td>shot</td>\n",
              "      <td>vehicle</td>\n",
              "      <td>28.0</td>\n",
              "      <td>M</td>\n",
              "      <td>B</td>\n",
              "      <td>Oshkosh</td>\n",
              "      <td>WI</td>\n",
              "      <td>False</td>\n",
              "      <td>attack</td>\n",
              "      <td>Car</td>\n",
              "      <td>True</td>\n",
              "    </tr>\n",
              "    <tr>\n",
              "      <th>2815</th>\n",
              "      <td>Dwayne Jeune</td>\n",
              "      <td>31/07/17</td>\n",
              "      <td>shot</td>\n",
              "      <td>knife</td>\n",
              "      <td>32.0</td>\n",
              "      <td>M</td>\n",
              "      <td>B</td>\n",
              "      <td>Brooklyn</td>\n",
              "      <td>NY</td>\n",
              "      <td>True</td>\n",
              "      <td>attack</td>\n",
              "      <td>Not fleeing</td>\n",
              "      <td>False</td>\n",
              "    </tr>\n",
              "  </tbody>\n",
              "</table>\n",
              "<p>2535 rows × 13 columns</p>\n",
              "</div>\n",
              "      <button class=\"colab-df-convert\" onclick=\"convertToInteractive('df-4f31d462-20dc-475f-a1af-ef9a487462fb')\"\n",
              "              title=\"Convert this dataframe to an interactive table.\"\n",
              "              style=\"display:none;\">\n",
              "        \n",
              "  <svg xmlns=\"http://www.w3.org/2000/svg\" height=\"24px\"viewBox=\"0 0 24 24\"\n",
              "       width=\"24px\">\n",
              "    <path d=\"M0 0h24v24H0V0z\" fill=\"none\"/>\n",
              "    <path d=\"M18.56 5.44l.94 2.06.94-2.06 2.06-.94-2.06-.94-.94-2.06-.94 2.06-2.06.94zm-11 1L8.5 8.5l.94-2.06 2.06-.94-2.06-.94L8.5 2.5l-.94 2.06-2.06.94zm10 10l.94 2.06.94-2.06 2.06-.94-2.06-.94-.94-2.06-.94 2.06-2.06.94z\"/><path d=\"M17.41 7.96l-1.37-1.37c-.4-.4-.92-.59-1.43-.59-.52 0-1.04.2-1.43.59L10.3 9.45l-7.72 7.72c-.78.78-.78 2.05 0 2.83L4 21.41c.39.39.9.59 1.41.59.51 0 1.02-.2 1.41-.59l7.78-7.78 2.81-2.81c.8-.78.8-2.07 0-2.86zM5.41 20L4 18.59l7.72-7.72 1.47 1.35L5.41 20z\"/>\n",
              "  </svg>\n",
              "      </button>\n",
              "      \n",
              "  <style>\n",
              "    .colab-df-container {\n",
              "      display:flex;\n",
              "      flex-wrap:wrap;\n",
              "      gap: 12px;\n",
              "    }\n",
              "\n",
              "    .colab-df-convert {\n",
              "      background-color: #E8F0FE;\n",
              "      border: none;\n",
              "      border-radius: 50%;\n",
              "      cursor: pointer;\n",
              "      display: none;\n",
              "      fill: #1967D2;\n",
              "      height: 32px;\n",
              "      padding: 0 0 0 0;\n",
              "      width: 32px;\n",
              "    }\n",
              "\n",
              "    .colab-df-convert:hover {\n",
              "      background-color: #E2EBFA;\n",
              "      box-shadow: 0px 1px 2px rgba(60, 64, 67, 0.3), 0px 1px 3px 1px rgba(60, 64, 67, 0.15);\n",
              "      fill: #174EA6;\n",
              "    }\n",
              "\n",
              "    [theme=dark] .colab-df-convert {\n",
              "      background-color: #3B4455;\n",
              "      fill: #D2E3FC;\n",
              "    }\n",
              "\n",
              "    [theme=dark] .colab-df-convert:hover {\n",
              "      background-color: #434B5C;\n",
              "      box-shadow: 0px 1px 3px 1px rgba(0, 0, 0, 0.15);\n",
              "      filter: drop-shadow(0px 1px 2px rgba(0, 0, 0, 0.3));\n",
              "      fill: #FFFFFF;\n",
              "    }\n",
              "  </style>\n",
              "\n",
              "      <script>\n",
              "        const buttonEl =\n",
              "          document.querySelector('#df-4f31d462-20dc-475f-a1af-ef9a487462fb button.colab-df-convert');\n",
              "        buttonEl.style.display =\n",
              "          google.colab.kernel.accessAllowed ? 'block' : 'none';\n",
              "\n",
              "        async function convertToInteractive(key) {\n",
              "          const element = document.querySelector('#df-4f31d462-20dc-475f-a1af-ef9a487462fb');\n",
              "          const dataTable =\n",
              "            await google.colab.kernel.invokeFunction('convertToInteractive',\n",
              "                                                     [key], {});\n",
              "          if (!dataTable) return;\n",
              "\n",
              "          const docLinkHtml = 'Like what you see? Visit the ' +\n",
              "            '<a target=\"_blank\" href=https://colab.research.google.com/notebooks/data_table.ipynb>data table notebook</a>'\n",
              "            + ' to learn more about interactive tables.';\n",
              "          element.innerHTML = '';\n",
              "          dataTable['output_type'] = 'display_data';\n",
              "          await google.colab.output.renderOutput(dataTable, element);\n",
              "          const docLink = document.createElement('div');\n",
              "          docLink.innerHTML = docLinkHtml;\n",
              "          element.appendChild(docLink);\n",
              "        }\n",
              "      </script>\n",
              "    </div>\n",
              "  </div>\n",
              "  "
            ]
          },
          "metadata": {},
          "execution_count": 6
        }
      ]
    },
    {
      "cell_type": "markdown",
      "source": [
        "#3. Data Preprocessing"
      ],
      "metadata": {
        "id": "rKHmt8efL-QM"
      }
    },
    {
      "cell_type": "markdown",
      "source": [
        "It plays a crucial role in the data analysis process as raw data is often dirty, inconsistent, and not ready to be directly used in machine learning algorithms or other analytical techniques. A generalized step-by-step process would be:\n",
        "\n",
        "* Data cleaning: Identification and handling of any issues in the data, such as missing data, duplicated values, noise, or outliers.\n",
        "\n",
        "* Class balancing (optional): It may be necessary to apply class balancing techniques, such as oversampling (increasing the minority class) or undersampling (reducing the majority class).\n",
        "\n",
        "* Data transformation: Next, data transformation techniques are applied, which may include normalization or standardization of values, encoding categorical variables into numerical formats, or creating new features from existing ones.\n",
        "\n",
        "* Feature selection: If the dataset contains many attributes, feature selection is performed to reduce dimensionality and improve the efficiency and accuracy of models. This can be done using techniques such as correlation analysis, principal component analysis (PCA), or feature selection algorithms.\n",
        "\n",
        "* Data splitting: The data is divided into training and testing sets. The training set is used to train the model, while the testing set is used to evaluate its performance.\n"
      ],
      "metadata": {
        "id": "58BAbnFsXqv6"
      }
    },
    {
      "cell_type": "markdown",
      "source": [
        "A quick analysis of the raw data from the provided CSV file was conducted, and it was decided that some attribute removals would be beneficial during the loading process:\n",
        "\n",
        "* Removing ***'name'***: It was deemed unnecessary since using it as an input parameter or target would be detrimental to the model, given that each object has a unique label (each individual's name is unique).\n",
        "* Removing ***'date'***: Similar to 'name', there is subjectivity in the attribute, leading to its exclusion.\n",
        "* Removing ***'city'***: It becomes unnecessary since there is already an attribute related to the state."
      ],
      "metadata": {
        "id": "0G_Ogpm2akjH"
      }
    },
    {
      "cell_type": "code",
      "source": [
        "df.drop(columns=[\"name\", \"date\"], axis=1, inplace=True)"
      ],
      "metadata": {
        "id": "rX9TTyq1hx6U"
      },
      "execution_count": null,
      "outputs": []
    },
    {
      "cell_type": "markdown",
      "source": [
        "## 3.1 Removing 'NaN' values\n"
      ],
      "metadata": {
        "id": "zeALuE0JiODX"
      }
    },
    {
      "cell_type": "markdown",
      "source": [
        "There are several possibilities for dealing with missing data, and below I will mention some of them along with their benefits:\n",
        "\n",
        "* **Instance deletion**: Useful when the amount of missing data is small compared to the dataset size. Deletion can preserve the integrity of the remaining data, but it may lead to a reduced dataset and loss of information.\n",
        "\n",
        "* **Attribute deletion:** Variables with a large number of NaN values are removed. This approach is good when the attribute is not essential for the analysis, but it may result in the loss of important information.\n",
        "\n",
        "* **Filling with fixed values**: Using mean, median, or mode. This approach can be detrimental when there is a high number of NaN values, as it can introduce bias into the data.\n",
        "\n",
        "* **Statistical imputation**: Estimated using statistical techniques (e.g., KNN or Linear Regression). Provides more accurate estimates and is more suitable when the data is informative.\n",
        "\n",
        "* **Implementing Machine Learning algorithms**: Utilizing predictive models such as Decision Trees. Appropriate when missing data is related to complex patterns."
      ],
      "metadata": {
        "id": "hJSC1Ug3mH4h"
      }
    },
    {
      "cell_type": "code",
      "source": [
        "nan_counts = df.isna().sum()\n",
        "print(nan_counts)"
      ],
      "metadata": {
        "colab": {
          "base_uri": "https://localhost:8080/"
        },
        "id": "qJQ70NjDhCQ7",
        "outputId": "15699f58-796f-4447-f1c7-3946d3ab159b"
      },
      "execution_count": null,
      "outputs": [
        {
          "output_type": "stream",
          "name": "stdout",
          "text": [
            "manner_of_death              0\n",
            "armed                        9\n",
            "age                         77\n",
            "gender                       0\n",
            "race                       195\n",
            "city                         0\n",
            "state                        0\n",
            "signs_of_mental_illness      0\n",
            "threat_level                 0\n",
            "flee                        65\n",
            "body_camera                  0\n",
            "dtype: int64\n"
          ]
        }
      ]
    },
    {
      "cell_type": "markdown",
      "source": [
        "Afterwards, the number of instances with NaN values was evaluated for each attribute and it was observed that there were 195 missing instances for ***'race'***, 9 for ***'armed'***, and 65 for ***'flee'***. Since the dataset has a significantly larger number of instances compared to the missing data, it was decided to remove these instances to ensure the integrity of the remaining data."
      ],
      "metadata": {
        "id": "4dLEd7Ijh919"
      }
    },
    {
      "cell_type": "code",
      "source": [
        "df['race'].replace('', np.nan, inplace=True)\n",
        "df.dropna(subset=['race'], inplace=True)\n",
        "\n",
        "df['flee'].replace('', np.nan, inplace=True)\n",
        "df.dropna(subset=['flee'], inplace=True)\n",
        "\n",
        "df['armed'].replace('', np.nan, inplace=True)\n",
        "df.dropna(subset=['armed'], inplace=True)"
      ],
      "metadata": {
        "id": "rLGqPiY0ji93"
      },
      "execution_count": null,
      "outputs": []
    },
    {
      "cell_type": "markdown",
      "source": [
        "Regarding the attribute ***'age'***, it has been decided to use statistical imputation with the KNN method. This method was chosen as linear regression is more effective when there is correlation among variables and patterns in the data. Additionally, KNN exhibits better performance compared to simple methods (such as fixed values) taking into account the structure and relationship of the data, thereby providing more accurate estimates."
      ],
      "metadata": {
        "id": "JPk4W705kDUT"
      }
    },
    {
      "cell_type": "code",
      "source": [
        "imputer = KNNImputer(n_neighbors=5, weights =\"distance\")\n",
        "\n",
        "df[\"age\"] = imputer.fit_transform(df[[\"age\"]])\n",
        "\n",
        "nan_counts = df.isna().sum()\n",
        "print(nan_counts)"
      ],
      "metadata": {
        "id": "hyTwHcrrVTOw"
      },
      "execution_count": null,
      "outputs": []
    },
    {
      "cell_type": "markdown",
      "source": [
        "##3.2 Inconsistencies and Duplicates Removal"
      ],
      "metadata": {
        "id": "00MWlhq9XTyF"
      }
    },
    {
      "cell_type": "markdown",
      "source": [
        "This process is performed to avoid inconsistencies in the data, increase the reliability, quality of the results, and improve the performance of the models:\n",
        "\n",
        "* It is inconsistent to state that the individual's age is less than 0.0\n",
        "* Duplicate rows in the DataFrame are also discarded"
      ],
      "metadata": {
        "id": "CaVjTjZZXbnO"
      }
    },
    {
      "cell_type": "code",
      "source": [
        "correct = df[\"age\"] >= 0.00\n",
        "df = df[correct]\n",
        "\n",
        "df.drop_duplicates()"
      ],
      "metadata": {
        "id": "D_rQezZvYRQi"
      },
      "execution_count": null,
      "outputs": []
    },
    {
      "cell_type": "markdown",
      "source": [
        "## 3.3 Balanceamento"
      ],
      "metadata": {
        "id": "gvHVUlsYZGJt"
      }
    },
    {
      "cell_type": "markdown",
      "source": [
        "## 3.4 Transformação dos dados"
      ],
      "metadata": {
        "id": "7XzRMnJEZci2"
      }
    },
    {
      "cell_type": "markdown",
      "source": [
        "### 3.4.1 One-Hot-Encoding"
      ],
      "metadata": {
        "id": "3lRZDth7ZgfJ"
      }
    },
    {
      "cell_type": "markdown",
      "source": [
        "### 3.4.2 Normalização"
      ],
      "metadata": {
        "id": "QDlMkH5iZlpn"
      }
    },
    {
      "cell_type": "markdown",
      "source": [
        "### 3.4.3 Boxplot"
      ],
      "metadata": {
        "id": "d46lzIzmaD1l"
      }
    },
    {
      "cell_type": "markdown",
      "source": [
        "## 3.5 Amostragem"
      ],
      "metadata": {
        "id": "jCrbb1-AZp-8"
      }
    },
    {
      "cell_type": "markdown",
      "source": [
        "## 3.6 Redução da dimensionalidade"
      ],
      "metadata": {
        "id": "04WahvAqZzex"
      }
    },
    {
      "cell_type": "markdown",
      "source": [
        "#4. Aprendizagem Supervisionada"
      ],
      "metadata": {
        "id": "48o6XiW1aIsB"
      }
    },
    {
      "cell_type": "markdown",
      "source": [
        "## 4.1 DecisionTree"
      ],
      "metadata": {
        "id": "MclR01TUaN8u"
      }
    },
    {
      "cell_type": "markdown",
      "source": [
        "## 4.2 KNN"
      ],
      "metadata": {
        "id": "dY1IV6r0aRqN"
      }
    },
    {
      "cell_type": "markdown",
      "source": [
        "## 4.3 RandomForest"
      ],
      "metadata": {
        "id": "vrxLsQx1aT4t"
      }
    },
    {
      "cell_type": "markdown",
      "source": [
        "## 4.4 Naive Bayes"
      ],
      "metadata": {
        "id": "apmsx6ZOad0-"
      }
    }
  ]
}